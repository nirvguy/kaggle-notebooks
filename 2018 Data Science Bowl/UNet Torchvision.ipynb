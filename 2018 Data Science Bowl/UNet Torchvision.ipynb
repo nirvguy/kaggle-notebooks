{
 "cells": [
  {
   "cell_type": "code",
   "execution_count": 1,
   "metadata": {},
   "outputs": [],
   "source": [
    "import torch\n",
    "from torch import nn\n",
    "from torch import optim\n",
    "from torch.autograd import Variable\n",
    "import numpy as np\n",
    "from torch.utils.data import Dataset, DataLoader, sampler\n",
    "from mpl_toolkits.axes_grid1 import ImageGrid\n",
    "from torchvision import transforms\n",
    "from torchvision.transforms import functional as vision_F\n",
    "import matplotlib.pyplot as plt"
   ]
  },
  {
   "cell_type": "code",
   "execution_count": 2,
   "metadata": {},
   "outputs": [],
   "source": [
    "USE_CUDA = False"
   ]
  },
  {
   "cell_type": "markdown",
   "metadata": {},
   "source": [
    "## 1. Loading Dataset ##"
   ]
  },
  {
   "cell_type": "markdown",
   "metadata": {},
   "source": [
    "### 1.1 Dataset loader ###"
   ]
  },
  {
   "cell_type": "code",
   "execution_count": 38,
   "metadata": {},
   "outputs": [],
   "source": [
    "import os\n",
    "from PIL import Image, ImageChops\n",
    "import numpy as np\n",
    "import random\n",
    "\n",
    "class TrainingNucleiDataset(Dataset):\n",
    "    def __init__(self, root_dir, transform=None):\n",
    "        self._root_dir = root_dir\n",
    "        self.load_train_images_path()\n",
    "        self._transform = transform\n",
    "        \n",
    "    def __len__(self):\n",
    "        return len(self._images)\n",
    "    \n",
    "    def __getitem__(self, idx):\n",
    "        image_path = self._images[idx] \n",
    "        image = Image.open(image_path)\n",
    "        image = image.convert('RGB')\n",
    "        final_mask = Image.new('RGB', image.size, (0, 0, 0))\n",
    "        for mask_path in self._masks[image_path]:\n",
    "            mask = Image.open(mask_path)\n",
    "            #mask = ImageChops.add(mask, final_mask)\n",
    "            final_mask.paste(mask, (0,0), mask)\n",
    "        final_mask = final_mask.convert('L')\n",
    "        if self._transform is not None:\n",
    "            image, final_mask = self._transform([image, final_mask])\n",
    "        \n",
    "        return image, final_mask\n",
    "    \n",
    "    def load_train_images_path(self):\n",
    "        self._masks = {}\n",
    "        for image_name in os.listdir(self._root_dir):\n",
    "            masks_path = os.path.join(self._root_dir, image_name, 'masks') \n",
    "            masks = [os.path.join(masks_path, mask_name)\n",
    "                     for mask_name in os.listdir(masks_path)\n",
    "                     if mask_name.endswith('.png')]\n",
    "            image_path = os.path.join(self._root_dir, image_name, 'images', image_name) + '.png'\n",
    "            if not os.path.exists(image_path):\n",
    "                raise Exception(\"invalid root folder\")\n",
    "            self._masks[image_path] = masks\n",
    "        self._images = list(self._masks.keys())"
   ]
  },
  {
   "cell_type": "markdown",
   "metadata": {},
   "source": [
    "### 1.2 Data Augmentation Utils ###"
   ]
  },
  {
   "cell_type": "code",
   "execution_count": 39,
   "metadata": {},
   "outputs": [],
   "source": [
    "class PairTransform:\n",
    "    def __init__(self, *transforms):\n",
    "        self._transforms = transforms\n",
    "    \n",
    "    def __call__(self, ims):\n",
    "        if len(self._transforms) != len(ims):\n",
    "            raise Exception(\"Expected the same number of transformation than images\")\n",
    "        return [ t(im) if t is not None else im for t, im in zip(self._transforms, ims) ]"
   ]
  },
  {
   "cell_type": "code",
   "execution_count": 40,
   "metadata": {},
   "outputs": [],
   "source": [
    "class PairRandomRotation(transforms.RandomRotation):\n",
    "    def __call__(self, ims):\n",
    "        \n",
    "        angle = self.get_params(self.degrees)\n",
    "        return [vision_F.rotate(im, angle, self.resample, self.expand, self.center) for im in ims]"
   ]
  },
  {
   "cell_type": "code",
   "execution_count": 41,
   "metadata": {},
   "outputs": [],
   "source": [
    "class PairRandomCrop(transforms.RandomCrop):\n",
    "    def __call__(self, ims):\n",
    "        if self.padding > 0:\n",
    "            img = F.pad(img, self.padding)\n",
    "\n",
    "        return [vision_F.crop(im, *self.get_params(im, self.size)) for im in ims]"
   ]
  },
  {
   "cell_type": "code",
   "execution_count": 46,
   "metadata": {},
   "outputs": [],
   "source": [
    "ds = TrainingNucleiDataset('data/stage_1/train/')"
   ]
  },
  {
   "cell_type": "code",
   "execution_count": 48,
   "metadata": {},
   "outputs": [
    {
     "ename": "AttributeError",
     "evalue": "'numpy.ndarray' object has no attribute 'mask'",
     "output_type": "error",
     "traceback": [
      "\u001b[0;31m---------------------------------------------------------------------------\u001b[0m",
      "\u001b[0;31mAttributeError\u001b[0m                            Traceback (most recent call last)",
      "\u001b[0;32m/usr/lib/python3.6/site-packages/IPython/core/formatters.py\u001b[0m in \u001b[0;36m__call__\u001b[0;34m(self, obj)\u001b[0m\n\u001b[1;32m    339\u001b[0m                 \u001b[0;32mpass\u001b[0m\u001b[0;34m\u001b[0m\u001b[0m\n\u001b[1;32m    340\u001b[0m             \u001b[0;32melse\u001b[0m\u001b[0;34m:\u001b[0m\u001b[0;34m\u001b[0m\u001b[0m\n\u001b[0;32m--> 341\u001b[0;31m                 \u001b[0;32mreturn\u001b[0m \u001b[0mprinter\u001b[0m\u001b[0;34m(\u001b[0m\u001b[0mobj\u001b[0m\u001b[0;34m)\u001b[0m\u001b[0;34m\u001b[0m\u001b[0m\n\u001b[0m\u001b[1;32m    342\u001b[0m             \u001b[0;31m# Finally look for special method names\u001b[0m\u001b[0;34m\u001b[0m\u001b[0;34m\u001b[0m\u001b[0m\n\u001b[1;32m    343\u001b[0m             \u001b[0mmethod\u001b[0m \u001b[0;34m=\u001b[0m \u001b[0mget_real_method\u001b[0m\u001b[0;34m(\u001b[0m\u001b[0mobj\u001b[0m\u001b[0;34m,\u001b[0m \u001b[0mself\u001b[0m\u001b[0;34m.\u001b[0m\u001b[0mprint_method\u001b[0m\u001b[0;34m)\u001b[0m\u001b[0;34m\u001b[0m\u001b[0m\n",
      "\u001b[0;32m/usr/lib/python3.6/site-packages/IPython/core/pylabtools.py\u001b[0m in \u001b[0;36m<lambda>\u001b[0;34m(fig)\u001b[0m\n\u001b[1;32m    236\u001b[0m \u001b[0;34m\u001b[0m\u001b[0m\n\u001b[1;32m    237\u001b[0m     \u001b[0;32mif\u001b[0m \u001b[0;34m'png'\u001b[0m \u001b[0;32min\u001b[0m \u001b[0mformats\u001b[0m\u001b[0;34m:\u001b[0m\u001b[0;34m\u001b[0m\u001b[0m\n\u001b[0;32m--> 238\u001b[0;31m         \u001b[0mpng_formatter\u001b[0m\u001b[0;34m.\u001b[0m\u001b[0mfor_type\u001b[0m\u001b[0;34m(\u001b[0m\u001b[0mFigure\u001b[0m\u001b[0;34m,\u001b[0m \u001b[0;32mlambda\u001b[0m \u001b[0mfig\u001b[0m\u001b[0;34m:\u001b[0m \u001b[0mprint_figure\u001b[0m\u001b[0;34m(\u001b[0m\u001b[0mfig\u001b[0m\u001b[0;34m,\u001b[0m \u001b[0;34m'png'\u001b[0m\u001b[0;34m,\u001b[0m \u001b[0;34m**\u001b[0m\u001b[0mkwargs\u001b[0m\u001b[0;34m)\u001b[0m\u001b[0;34m)\u001b[0m\u001b[0;34m\u001b[0m\u001b[0m\n\u001b[0m\u001b[1;32m    239\u001b[0m     \u001b[0;32mif\u001b[0m \u001b[0;34m'retina'\u001b[0m \u001b[0;32min\u001b[0m \u001b[0mformats\u001b[0m \u001b[0;32mor\u001b[0m \u001b[0;34m'png2x'\u001b[0m \u001b[0;32min\u001b[0m \u001b[0mformats\u001b[0m\u001b[0;34m:\u001b[0m\u001b[0;34m\u001b[0m\u001b[0m\n\u001b[1;32m    240\u001b[0m         \u001b[0mpng_formatter\u001b[0m\u001b[0;34m.\u001b[0m\u001b[0mfor_type\u001b[0m\u001b[0;34m(\u001b[0m\u001b[0mFigure\u001b[0m\u001b[0;34m,\u001b[0m \u001b[0;32mlambda\u001b[0m \u001b[0mfig\u001b[0m\u001b[0;34m:\u001b[0m \u001b[0mretina_figure\u001b[0m\u001b[0;34m(\u001b[0m\u001b[0mfig\u001b[0m\u001b[0;34m,\u001b[0m \u001b[0;34m**\u001b[0m\u001b[0mkwargs\u001b[0m\u001b[0;34m)\u001b[0m\u001b[0;34m)\u001b[0m\u001b[0;34m\u001b[0m\u001b[0m\n",
      "\u001b[0;32m/usr/lib/python3.6/site-packages/IPython/core/pylabtools.py\u001b[0m in \u001b[0;36mprint_figure\u001b[0;34m(fig, fmt, bbox_inches, **kwargs)\u001b[0m\n\u001b[1;32m    120\u001b[0m \u001b[0;34m\u001b[0m\u001b[0m\n\u001b[1;32m    121\u001b[0m     \u001b[0mbytes_io\u001b[0m \u001b[0;34m=\u001b[0m \u001b[0mBytesIO\u001b[0m\u001b[0;34m(\u001b[0m\u001b[0;34m)\u001b[0m\u001b[0;34m\u001b[0m\u001b[0m\n\u001b[0;32m--> 122\u001b[0;31m     \u001b[0mfig\u001b[0m\u001b[0;34m.\u001b[0m\u001b[0mcanvas\u001b[0m\u001b[0;34m.\u001b[0m\u001b[0mprint_figure\u001b[0m\u001b[0;34m(\u001b[0m\u001b[0mbytes_io\u001b[0m\u001b[0;34m,\u001b[0m \u001b[0;34m**\u001b[0m\u001b[0mkw\u001b[0m\u001b[0;34m)\u001b[0m\u001b[0;34m\u001b[0m\u001b[0m\n\u001b[0m\u001b[1;32m    123\u001b[0m     \u001b[0mdata\u001b[0m \u001b[0;34m=\u001b[0m \u001b[0mbytes_io\u001b[0m\u001b[0;34m.\u001b[0m\u001b[0mgetvalue\u001b[0m\u001b[0;34m(\u001b[0m\u001b[0;34m)\u001b[0m\u001b[0;34m\u001b[0m\u001b[0m\n\u001b[1;32m    124\u001b[0m     \u001b[0;32mif\u001b[0m \u001b[0mfmt\u001b[0m \u001b[0;34m==\u001b[0m \u001b[0;34m'svg'\u001b[0m\u001b[0;34m:\u001b[0m\u001b[0;34m\u001b[0m\u001b[0m\n",
      "\u001b[0;32m/usr/lib/python3.6/site-packages/matplotlib/backend_bases.py\u001b[0m in \u001b[0;36mprint_figure\u001b[0;34m(self, filename, dpi, facecolor, edgecolor, orientation, format, **kwargs)\u001b[0m\n\u001b[1;32m   2214\u001b[0m                     \u001b[0morientation\u001b[0m\u001b[0;34m=\u001b[0m\u001b[0morientation\u001b[0m\u001b[0;34m,\u001b[0m\u001b[0;34m\u001b[0m\u001b[0m\n\u001b[1;32m   2215\u001b[0m                     \u001b[0mdryrun\u001b[0m\u001b[0;34m=\u001b[0m\u001b[0;32mTrue\u001b[0m\u001b[0;34m,\u001b[0m\u001b[0;34m\u001b[0m\u001b[0m\n\u001b[0;32m-> 2216\u001b[0;31m                     **kwargs)\n\u001b[0m\u001b[1;32m   2217\u001b[0m                 \u001b[0mrenderer\u001b[0m \u001b[0;34m=\u001b[0m \u001b[0mself\u001b[0m\u001b[0;34m.\u001b[0m\u001b[0mfigure\u001b[0m\u001b[0;34m.\u001b[0m\u001b[0m_cachedRenderer\u001b[0m\u001b[0;34m\u001b[0m\u001b[0m\n\u001b[1;32m   2218\u001b[0m                 \u001b[0mbbox_inches\u001b[0m \u001b[0;34m=\u001b[0m \u001b[0mself\u001b[0m\u001b[0;34m.\u001b[0m\u001b[0mfigure\u001b[0m\u001b[0;34m.\u001b[0m\u001b[0mget_tightbbox\u001b[0m\u001b[0;34m(\u001b[0m\u001b[0mrenderer\u001b[0m\u001b[0;34m)\u001b[0m\u001b[0;34m\u001b[0m\u001b[0m\n",
      "\u001b[0;32m/usr/lib/python3.6/site-packages/matplotlib/backends/backend_agg.py\u001b[0m in \u001b[0;36mprint_png\u001b[0;34m(self, filename_or_obj, *args, **kwargs)\u001b[0m\n\u001b[1;32m    505\u001b[0m \u001b[0;34m\u001b[0m\u001b[0m\n\u001b[1;32m    506\u001b[0m     \u001b[0;32mdef\u001b[0m \u001b[0mprint_png\u001b[0m\u001b[0;34m(\u001b[0m\u001b[0mself\u001b[0m\u001b[0;34m,\u001b[0m \u001b[0mfilename_or_obj\u001b[0m\u001b[0;34m,\u001b[0m \u001b[0;34m*\u001b[0m\u001b[0margs\u001b[0m\u001b[0;34m,\u001b[0m \u001b[0;34m**\u001b[0m\u001b[0mkwargs\u001b[0m\u001b[0;34m)\u001b[0m\u001b[0;34m:\u001b[0m\u001b[0;34m\u001b[0m\u001b[0m\n\u001b[0;32m--> 507\u001b[0;31m         \u001b[0mFigureCanvasAgg\u001b[0m\u001b[0;34m.\u001b[0m\u001b[0mdraw\u001b[0m\u001b[0;34m(\u001b[0m\u001b[0mself\u001b[0m\u001b[0;34m)\u001b[0m\u001b[0;34m\u001b[0m\u001b[0m\n\u001b[0m\u001b[1;32m    508\u001b[0m         \u001b[0mrenderer\u001b[0m \u001b[0;34m=\u001b[0m \u001b[0mself\u001b[0m\u001b[0;34m.\u001b[0m\u001b[0mget_renderer\u001b[0m\u001b[0;34m(\u001b[0m\u001b[0;34m)\u001b[0m\u001b[0;34m\u001b[0m\u001b[0m\n\u001b[1;32m    509\u001b[0m         \u001b[0moriginal_dpi\u001b[0m \u001b[0;34m=\u001b[0m \u001b[0mrenderer\u001b[0m\u001b[0;34m.\u001b[0m\u001b[0mdpi\u001b[0m\u001b[0;34m\u001b[0m\u001b[0m\n",
      "\u001b[0;32m/usr/lib/python3.6/site-packages/matplotlib/backends/backend_agg.py\u001b[0m in \u001b[0;36mdraw\u001b[0;34m(self)\u001b[0m\n\u001b[1;32m    428\u001b[0m             \u001b[0;31m# if toolbar:\u001b[0m\u001b[0;34m\u001b[0m\u001b[0;34m\u001b[0m\u001b[0m\n\u001b[1;32m    429\u001b[0m             \u001b[0;31m#     toolbar.set_cursor(cursors.WAIT)\u001b[0m\u001b[0;34m\u001b[0m\u001b[0;34m\u001b[0m\u001b[0m\n\u001b[0;32m--> 430\u001b[0;31m             \u001b[0mself\u001b[0m\u001b[0;34m.\u001b[0m\u001b[0mfigure\u001b[0m\u001b[0;34m.\u001b[0m\u001b[0mdraw\u001b[0m\u001b[0;34m(\u001b[0m\u001b[0mself\u001b[0m\u001b[0;34m.\u001b[0m\u001b[0mrenderer\u001b[0m\u001b[0;34m)\u001b[0m\u001b[0;34m\u001b[0m\u001b[0m\n\u001b[0m\u001b[1;32m    431\u001b[0m         \u001b[0;32mfinally\u001b[0m\u001b[0;34m:\u001b[0m\u001b[0;34m\u001b[0m\u001b[0m\n\u001b[1;32m    432\u001b[0m             \u001b[0;31m# if toolbar:\u001b[0m\u001b[0;34m\u001b[0m\u001b[0;34m\u001b[0m\u001b[0m\n",
      "\u001b[0;32m/usr/lib/python3.6/site-packages/matplotlib/artist.py\u001b[0m in \u001b[0;36mdraw_wrapper\u001b[0;34m(artist, renderer, *args, **kwargs)\u001b[0m\n\u001b[1;32m     53\u001b[0m                 \u001b[0mrenderer\u001b[0m\u001b[0;34m.\u001b[0m\u001b[0mstart_filter\u001b[0m\u001b[0;34m(\u001b[0m\u001b[0;34m)\u001b[0m\u001b[0;34m\u001b[0m\u001b[0m\n\u001b[1;32m     54\u001b[0m \u001b[0;34m\u001b[0m\u001b[0m\n\u001b[0;32m---> 55\u001b[0;31m             \u001b[0;32mreturn\u001b[0m \u001b[0mdraw\u001b[0m\u001b[0;34m(\u001b[0m\u001b[0martist\u001b[0m\u001b[0;34m,\u001b[0m \u001b[0mrenderer\u001b[0m\u001b[0;34m,\u001b[0m \u001b[0;34m*\u001b[0m\u001b[0margs\u001b[0m\u001b[0;34m,\u001b[0m \u001b[0;34m**\u001b[0m\u001b[0mkwargs\u001b[0m\u001b[0;34m)\u001b[0m\u001b[0;34m\u001b[0m\u001b[0m\n\u001b[0m\u001b[1;32m     56\u001b[0m         \u001b[0;32mfinally\u001b[0m\u001b[0;34m:\u001b[0m\u001b[0;34m\u001b[0m\u001b[0m\n\u001b[1;32m     57\u001b[0m             \u001b[0;32mif\u001b[0m \u001b[0martist\u001b[0m\u001b[0;34m.\u001b[0m\u001b[0mget_agg_filter\u001b[0m\u001b[0;34m(\u001b[0m\u001b[0;34m)\u001b[0m \u001b[0;32mis\u001b[0m \u001b[0;32mnot\u001b[0m \u001b[0;32mNone\u001b[0m\u001b[0;34m:\u001b[0m\u001b[0;34m\u001b[0m\u001b[0m\n",
      "\u001b[0;32m/usr/lib/python3.6/site-packages/matplotlib/figure.py\u001b[0m in \u001b[0;36mdraw\u001b[0;34m(self, renderer)\u001b[0m\n\u001b[1;32m   1297\u001b[0m \u001b[0;34m\u001b[0m\u001b[0m\n\u001b[1;32m   1298\u001b[0m             mimage._draw_list_compositing_images(\n\u001b[0;32m-> 1299\u001b[0;31m                 renderer, self, artists, self.suppressComposite)\n\u001b[0m\u001b[1;32m   1300\u001b[0m \u001b[0;34m\u001b[0m\u001b[0m\n\u001b[1;32m   1301\u001b[0m             \u001b[0mrenderer\u001b[0m\u001b[0;34m.\u001b[0m\u001b[0mclose_group\u001b[0m\u001b[0;34m(\u001b[0m\u001b[0;34m'figure'\u001b[0m\u001b[0;34m)\u001b[0m\u001b[0;34m\u001b[0m\u001b[0m\n",
      "\u001b[0;32m/usr/lib/python3.6/site-packages/matplotlib/image.py\u001b[0m in \u001b[0;36m_draw_list_compositing_images\u001b[0;34m(renderer, parent, artists, suppress_composite)\u001b[0m\n\u001b[1;32m    136\u001b[0m     \u001b[0;32mif\u001b[0m \u001b[0mnot_composite\u001b[0m \u001b[0;32mor\u001b[0m \u001b[0;32mnot\u001b[0m \u001b[0mhas_images\u001b[0m\u001b[0;34m:\u001b[0m\u001b[0;34m\u001b[0m\u001b[0m\n\u001b[1;32m    137\u001b[0m         \u001b[0;32mfor\u001b[0m \u001b[0ma\u001b[0m \u001b[0;32min\u001b[0m \u001b[0martists\u001b[0m\u001b[0;34m:\u001b[0m\u001b[0;34m\u001b[0m\u001b[0m\n\u001b[0;32m--> 138\u001b[0;31m             \u001b[0ma\u001b[0m\u001b[0;34m.\u001b[0m\u001b[0mdraw\u001b[0m\u001b[0;34m(\u001b[0m\u001b[0mrenderer\u001b[0m\u001b[0;34m)\u001b[0m\u001b[0;34m\u001b[0m\u001b[0m\n\u001b[0m\u001b[1;32m    139\u001b[0m     \u001b[0;32melse\u001b[0m\u001b[0;34m:\u001b[0m\u001b[0;34m\u001b[0m\u001b[0m\n\u001b[1;32m    140\u001b[0m         \u001b[0;31m# Composite any adjacent images together\u001b[0m\u001b[0;34m\u001b[0m\u001b[0;34m\u001b[0m\u001b[0m\n",
      "\u001b[0;32m/usr/lib/python3.6/site-packages/mpl_toolkits/axes_grid1/axes_divider.py\u001b[0m in \u001b[0;36mdraw\u001b[0;34m(self, renderer, inframe)\u001b[0m\n\u001b[1;32m    909\u001b[0m         \u001b[0mself\u001b[0m\u001b[0;34m.\u001b[0m\u001b[0m_locator_renderer\u001b[0m \u001b[0;34m=\u001b[0m \u001b[0mrenderer\u001b[0m\u001b[0;34m\u001b[0m\u001b[0m\n\u001b[1;32m    910\u001b[0m \u001b[0;34m\u001b[0m\u001b[0m\n\u001b[0;32m--> 911\u001b[0;31m         \u001b[0mself\u001b[0m\u001b[0;34m.\u001b[0m\u001b[0m_axes_class\u001b[0m\u001b[0;34m.\u001b[0m\u001b[0mdraw\u001b[0m\u001b[0;34m(\u001b[0m\u001b[0mself\u001b[0m\u001b[0;34m,\u001b[0m \u001b[0mrenderer\u001b[0m\u001b[0;34m,\u001b[0m \u001b[0minframe\u001b[0m\u001b[0;34m)\u001b[0m\u001b[0;34m\u001b[0m\u001b[0m\n\u001b[0m\u001b[1;32m    912\u001b[0m \u001b[0;34m\u001b[0m\u001b[0m\n\u001b[1;32m    913\u001b[0m     \u001b[0;32mdef\u001b[0m \u001b[0m_make_twin_axes\u001b[0m\u001b[0;34m(\u001b[0m\u001b[0mself\u001b[0m\u001b[0;34m,\u001b[0m \u001b[0;34m*\u001b[0m\u001b[0mkl\u001b[0m\u001b[0;34m,\u001b[0m \u001b[0;34m**\u001b[0m\u001b[0mkwargs\u001b[0m\u001b[0;34m)\u001b[0m\u001b[0;34m:\u001b[0m\u001b[0;34m\u001b[0m\u001b[0m\n",
      "\u001b[0;32m/usr/lib/python3.6/site-packages/matplotlib/artist.py\u001b[0m in \u001b[0;36mdraw_wrapper\u001b[0;34m(artist, renderer, *args, **kwargs)\u001b[0m\n\u001b[1;32m     53\u001b[0m                 \u001b[0mrenderer\u001b[0m\u001b[0;34m.\u001b[0m\u001b[0mstart_filter\u001b[0m\u001b[0;34m(\u001b[0m\u001b[0;34m)\u001b[0m\u001b[0;34m\u001b[0m\u001b[0m\n\u001b[1;32m     54\u001b[0m \u001b[0;34m\u001b[0m\u001b[0m\n\u001b[0;32m---> 55\u001b[0;31m             \u001b[0;32mreturn\u001b[0m \u001b[0mdraw\u001b[0m\u001b[0;34m(\u001b[0m\u001b[0martist\u001b[0m\u001b[0;34m,\u001b[0m \u001b[0mrenderer\u001b[0m\u001b[0;34m,\u001b[0m \u001b[0;34m*\u001b[0m\u001b[0margs\u001b[0m\u001b[0;34m,\u001b[0m \u001b[0;34m**\u001b[0m\u001b[0mkwargs\u001b[0m\u001b[0;34m)\u001b[0m\u001b[0;34m\u001b[0m\u001b[0m\n\u001b[0m\u001b[1;32m     56\u001b[0m         \u001b[0;32mfinally\u001b[0m\u001b[0;34m:\u001b[0m\u001b[0;34m\u001b[0m\u001b[0m\n\u001b[1;32m     57\u001b[0m             \u001b[0;32mif\u001b[0m \u001b[0martist\u001b[0m\u001b[0;34m.\u001b[0m\u001b[0mget_agg_filter\u001b[0m\u001b[0;34m(\u001b[0m\u001b[0;34m)\u001b[0m \u001b[0;32mis\u001b[0m \u001b[0;32mnot\u001b[0m \u001b[0;32mNone\u001b[0m\u001b[0;34m:\u001b[0m\u001b[0;34m\u001b[0m\u001b[0m\n",
      "\u001b[0;32m/usr/lib/python3.6/site-packages/matplotlib/axes/_base.py\u001b[0m in \u001b[0;36mdraw\u001b[0;34m(self, renderer, inframe)\u001b[0m\n\u001b[1;32m   2435\u001b[0m             \u001b[0mrenderer\u001b[0m\u001b[0;34m.\u001b[0m\u001b[0mstop_rasterizing\u001b[0m\u001b[0;34m(\u001b[0m\u001b[0;34m)\u001b[0m\u001b[0;34m\u001b[0m\u001b[0m\n\u001b[1;32m   2436\u001b[0m \u001b[0;34m\u001b[0m\u001b[0m\n\u001b[0;32m-> 2437\u001b[0;31m         \u001b[0mmimage\u001b[0m\u001b[0;34m.\u001b[0m\u001b[0m_draw_list_compositing_images\u001b[0m\u001b[0;34m(\u001b[0m\u001b[0mrenderer\u001b[0m\u001b[0;34m,\u001b[0m \u001b[0mself\u001b[0m\u001b[0;34m,\u001b[0m \u001b[0martists\u001b[0m\u001b[0;34m)\u001b[0m\u001b[0;34m\u001b[0m\u001b[0m\n\u001b[0m\u001b[1;32m   2438\u001b[0m \u001b[0;34m\u001b[0m\u001b[0m\n\u001b[1;32m   2439\u001b[0m         \u001b[0mrenderer\u001b[0m\u001b[0;34m.\u001b[0m\u001b[0mclose_group\u001b[0m\u001b[0;34m(\u001b[0m\u001b[0;34m'axes'\u001b[0m\u001b[0;34m)\u001b[0m\u001b[0;34m\u001b[0m\u001b[0m\n",
      "\u001b[0;32m/usr/lib/python3.6/site-packages/matplotlib/image.py\u001b[0m in \u001b[0;36m_draw_list_compositing_images\u001b[0;34m(renderer, parent, artists, suppress_composite)\u001b[0m\n\u001b[1;32m    136\u001b[0m     \u001b[0;32mif\u001b[0m \u001b[0mnot_composite\u001b[0m \u001b[0;32mor\u001b[0m \u001b[0;32mnot\u001b[0m \u001b[0mhas_images\u001b[0m\u001b[0;34m:\u001b[0m\u001b[0;34m\u001b[0m\u001b[0m\n\u001b[1;32m    137\u001b[0m         \u001b[0;32mfor\u001b[0m \u001b[0ma\u001b[0m \u001b[0;32min\u001b[0m \u001b[0martists\u001b[0m\u001b[0;34m:\u001b[0m\u001b[0;34m\u001b[0m\u001b[0m\n\u001b[0;32m--> 138\u001b[0;31m             \u001b[0ma\u001b[0m\u001b[0;34m.\u001b[0m\u001b[0mdraw\u001b[0m\u001b[0;34m(\u001b[0m\u001b[0mrenderer\u001b[0m\u001b[0;34m)\u001b[0m\u001b[0;34m\u001b[0m\u001b[0m\n\u001b[0m\u001b[1;32m    139\u001b[0m     \u001b[0;32melse\u001b[0m\u001b[0;34m:\u001b[0m\u001b[0;34m\u001b[0m\u001b[0m\n\u001b[1;32m    140\u001b[0m         \u001b[0;31m# Composite any adjacent images together\u001b[0m\u001b[0;34m\u001b[0m\u001b[0;34m\u001b[0m\u001b[0m\n",
      "\u001b[0;32m/usr/lib/python3.6/site-packages/matplotlib/artist.py\u001b[0m in \u001b[0;36mdraw_wrapper\u001b[0;34m(artist, renderer, *args, **kwargs)\u001b[0m\n\u001b[1;32m     53\u001b[0m                 \u001b[0mrenderer\u001b[0m\u001b[0;34m.\u001b[0m\u001b[0mstart_filter\u001b[0m\u001b[0;34m(\u001b[0m\u001b[0;34m)\u001b[0m\u001b[0;34m\u001b[0m\u001b[0m\n\u001b[1;32m     54\u001b[0m \u001b[0;34m\u001b[0m\u001b[0m\n\u001b[0;32m---> 55\u001b[0;31m             \u001b[0;32mreturn\u001b[0m \u001b[0mdraw\u001b[0m\u001b[0;34m(\u001b[0m\u001b[0martist\u001b[0m\u001b[0;34m,\u001b[0m \u001b[0mrenderer\u001b[0m\u001b[0;34m,\u001b[0m \u001b[0;34m*\u001b[0m\u001b[0margs\u001b[0m\u001b[0;34m,\u001b[0m \u001b[0;34m**\u001b[0m\u001b[0mkwargs\u001b[0m\u001b[0;34m)\u001b[0m\u001b[0;34m\u001b[0m\u001b[0m\n\u001b[0m\u001b[1;32m     56\u001b[0m         \u001b[0;32mfinally\u001b[0m\u001b[0;34m:\u001b[0m\u001b[0;34m\u001b[0m\u001b[0m\n\u001b[1;32m     57\u001b[0m             \u001b[0;32mif\u001b[0m \u001b[0martist\u001b[0m\u001b[0;34m.\u001b[0m\u001b[0mget_agg_filter\u001b[0m\u001b[0;34m(\u001b[0m\u001b[0;34m)\u001b[0m \u001b[0;32mis\u001b[0m \u001b[0;32mnot\u001b[0m \u001b[0;32mNone\u001b[0m\u001b[0;34m:\u001b[0m\u001b[0;34m\u001b[0m\u001b[0m\n",
      "\u001b[0;32m/usr/lib/python3.6/site-packages/matplotlib/image.py\u001b[0m in \u001b[0;36mdraw\u001b[0;34m(self, renderer, *args, **kwargs)\u001b[0m\n\u001b[1;32m    564\u001b[0m         \u001b[0;32melse\u001b[0m\u001b[0;34m:\u001b[0m\u001b[0;34m\u001b[0m\u001b[0m\n\u001b[1;32m    565\u001b[0m             im, l, b, trans = self.make_image(\n\u001b[0;32m--> 566\u001b[0;31m                 renderer, renderer.get_image_magnification())\n\u001b[0m\u001b[1;32m    567\u001b[0m             \u001b[0;32mif\u001b[0m \u001b[0mim\u001b[0m \u001b[0;32mis\u001b[0m \u001b[0;32mnot\u001b[0m \u001b[0;32mNone\u001b[0m\u001b[0;34m:\u001b[0m\u001b[0;34m\u001b[0m\u001b[0m\n\u001b[1;32m    568\u001b[0m                 \u001b[0mrenderer\u001b[0m\u001b[0;34m.\u001b[0m\u001b[0mdraw_image\u001b[0m\u001b[0;34m(\u001b[0m\u001b[0mgc\u001b[0m\u001b[0;34m,\u001b[0m \u001b[0ml\u001b[0m\u001b[0;34m,\u001b[0m \u001b[0mb\u001b[0m\u001b[0;34m,\u001b[0m \u001b[0mim\u001b[0m\u001b[0;34m)\u001b[0m\u001b[0;34m\u001b[0m\u001b[0m\n",
      "\u001b[0;32m/usr/lib/python3.6/site-packages/matplotlib/image.py\u001b[0m in \u001b[0;36mmake_image\u001b[0;34m(self, renderer, magnification, unsampled)\u001b[0m\n\u001b[1;32m    791\u001b[0m         return self._make_image(\n\u001b[1;32m    792\u001b[0m             \u001b[0mself\u001b[0m\u001b[0;34m.\u001b[0m\u001b[0m_A\u001b[0m\u001b[0;34m,\u001b[0m \u001b[0mbbox\u001b[0m\u001b[0;34m,\u001b[0m \u001b[0mtransformed_bbox\u001b[0m\u001b[0;34m,\u001b[0m \u001b[0mself\u001b[0m\u001b[0;34m.\u001b[0m\u001b[0maxes\u001b[0m\u001b[0;34m.\u001b[0m\u001b[0mbbox\u001b[0m\u001b[0;34m,\u001b[0m \u001b[0mmagnification\u001b[0m\u001b[0;34m,\u001b[0m\u001b[0;34m\u001b[0m\u001b[0m\n\u001b[0;32m--> 793\u001b[0;31m             unsampled=unsampled)\n\u001b[0m\u001b[1;32m    794\u001b[0m \u001b[0;34m\u001b[0m\u001b[0m\n\u001b[1;32m    795\u001b[0m     \u001b[0;32mdef\u001b[0m \u001b[0m_check_unsampled_image\u001b[0m\u001b[0;34m(\u001b[0m\u001b[0mself\u001b[0m\u001b[0;34m,\u001b[0m \u001b[0mrenderer\u001b[0m\u001b[0;34m)\u001b[0m\u001b[0;34m:\u001b[0m\u001b[0;34m\u001b[0m\u001b[0m\n",
      "\u001b[0;32m/usr/lib/python3.6/site-packages/matplotlib/image.py\u001b[0m in \u001b[0;36m_make_image\u001b[0;34m(self, A, in_bbox, out_bbox, clip_bbox, magnification, unsampled, round_to_pixel_border)\u001b[0m\n\u001b[1;32m    428\u001b[0m \u001b[0;34m\u001b[0m\u001b[0m\n\u001b[1;32m    429\u001b[0m                 \u001b[0mmask\u001b[0m \u001b[0;34m=\u001b[0m \u001b[0mnp\u001b[0m\u001b[0;34m.\u001b[0m\u001b[0mempty\u001b[0m\u001b[0;34m(\u001b[0m\u001b[0mA\u001b[0m\u001b[0;34m.\u001b[0m\u001b[0mshape\u001b[0m\u001b[0;34m,\u001b[0m \u001b[0mdtype\u001b[0m\u001b[0;34m=\u001b[0m\u001b[0mnp\u001b[0m\u001b[0;34m.\u001b[0m\u001b[0mfloat32\u001b[0m\u001b[0;34m)\u001b[0m\u001b[0;34m\u001b[0m\u001b[0m\n\u001b[0;32m--> 430\u001b[0;31m                 \u001b[0;32mif\u001b[0m \u001b[0mA\u001b[0m\u001b[0;34m.\u001b[0m\u001b[0mmask\u001b[0m\u001b[0;34m.\u001b[0m\u001b[0mshape\u001b[0m \u001b[0;34m==\u001b[0m \u001b[0mA\u001b[0m\u001b[0;34m.\u001b[0m\u001b[0mshape\u001b[0m\u001b[0;34m:\u001b[0m\u001b[0;34m\u001b[0m\u001b[0m\n\u001b[0m\u001b[1;32m    431\u001b[0m                     \u001b[0;31m# this is the case of a nontrivial mask\u001b[0m\u001b[0;34m\u001b[0m\u001b[0;34m\u001b[0m\u001b[0m\n\u001b[1;32m    432\u001b[0m                     mask[:] = np.where(A.mask, np.float32(np.nan),\n",
      "\u001b[0;31mAttributeError\u001b[0m: 'numpy.ndarray' object has no attribute 'mask'"
     ]
    },
    {
     "data": {
      "text/plain": [
       "<matplotlib.figure.Figure at 0x7f1090e72400>"
      ]
     },
     "metadata": {},
     "output_type": "display_data"
    }
   ],
   "source": [
    "ROWS = 2\n",
    "COLS = 4\n",
    "\n",
    "images_indices = np.random.randint(len(ds), size=COLS)\n",
    "fig = plt.figure(1, (10., 10.))\n",
    "grid = ImageGrid(fig, 111,\n",
    "                 nrows_ncols=(ROWS, COLS),\n",
    "                 axes_pad=0.2,\n",
    "                 )\n",
    "\n",
    "for i, idx in enumerate(np.nditer(images_indices)):\n",
    "    im, target = ds[idx]\n",
    "    grid[i].imshow(im)\n",
    "    grid[i + COLS].imshow(target)\n",
    "plt.show()"
   ]
  },
  {
   "cell_type": "code",
   "execution_count": 49,
   "metadata": {},
   "outputs": [],
   "source": [
    "ds = TrainingNucleiDataset('data/stage_1/train', transform=transforms.Compose([PairRandomCrop(size=256),\n",
    "                                                                 PairRandomRotation(degrees=90),\n",
    "                                                                 #PairTransform(None, transforms.Resize([98, 98])),\n",
    "                                                                 PairTransform(transforms.ToTensor(), transforms.ToTensor()),\n",
    "                                                                 PairTransform(None, transforms.Lambda(lambda x: x[0].unsqueeze(0))),\n",
    "                                                                 ]))"
   ]
  },
  {
   "cell_type": "code",
   "execution_count": 45,
   "metadata": {},
   "outputs": [
    {
     "data": {
      "image/png": "[encoded data removed]",
      "text/plain": [
       "<matplotlib.figure.Figure at 0x7f10915a0e80>"
      ]
     },
     "metadata": {},
     "output_type": "display_data"
    }
   ],
   "source": [
    "ROWS = 2\n",
    "COLS = 4\n",
    "\n",
    "fig = plt.figure(1, (10., 10.))\n",
    "grid = ImageGrid(fig, 111,\n",
    "                 nrows_ncols=(ROWS, COLS),\n",
    "                 axes_pad=0.2,\n",
    "                 )\n",
    "\n",
    "for i, idx in enumerate(np.nditer(images_indices)):\n",
    "    im, target = ds[idx]\n",
    "    #print(target.shape)\n",
    "    grid[i].imshow(im.permute(1,2,0).numpy())\n",
    "    grid[i + COLS].imshow(target[0].numpy())\n",
    "plt.show()"
   ]
  },
  {
   "cell_type": "code",
   "execution_count": 11,
   "metadata": {},
   "outputs": [],
   "source": [
    "ds = TrainingNucleiDataset('data/stage_1/train', transform=transforms.Compose([PairRandomCrop(size=256),\n",
    "                                                                 PairRandomRotation(degrees=90),\n",
    "                                                                 PairTransform(None, transforms.Resize([98, 98])),\n",
    "                                                                 PairTransform(transforms.ToTensor(), transforms.ToTensor()),\n",
    "                                                                 PairTransform(None, transforms.Lambda(lambda x: x[0].unsqueeze(0)))]))"
   ]
  },
  {
   "cell_type": "markdown",
   "metadata": {},
   "source": [
    "### 1.3 DataLoaders ###"
   ]
  },
  {
   "cell_type": "markdown",
   "metadata": {},
   "source": [
    "#### 1.3.1 Splitting into Training and Validation ####"
   ]
  },
  {
   "cell_type": "code",
   "execution_count": 12,
   "metadata": {},
   "outputs": [],
   "source": [
    "TRAIN_SIZE = int(len(ds) * 0.8)\n",
    "\n",
    "indices = np.random.permutation(len(ds))\n",
    "training_indices = indices[:TRAIN_SIZE]\n",
    "test_indices = indices[TRAIN_SIZE:]"
   ]
  },
  {
   "cell_type": "code",
   "execution_count": 13,
   "metadata": {},
   "outputs": [],
   "source": [
    "training_sampler = sampler.SubsetRandomSampler(training_indices)"
   ]
  },
  {
   "cell_type": "code",
   "execution_count": 14,
   "metadata": {},
   "outputs": [],
   "source": [
    "test_sampler = sampler.SubsetRandomSampler(test_indices)"
   ]
  },
  {
   "cell_type": "code",
   "execution_count": 15,
   "metadata": {},
   "outputs": [],
   "source": [
    "training_dataloader = DataLoader(ds, sampler=training_sampler, batch_size=8, num_workers=2)\n",
    "test_dataloader = DataLoader(ds, sampler=test_sampler, batch_size=8, num_workers=2)"
   ]
  },
  {
   "cell_type": "markdown",
   "metadata": {},
   "source": [
    "## Defining the model ##"
   ]
  },
  {
   "cell_type": "code",
   "execution_count": 16,
   "metadata": {},
   "outputs": [],
   "source": [
    "from torch.nn import functional as F"
   ]
  },
  {
   "cell_type": "code",
   "execution_count": 17,
   "metadata": {},
   "outputs": [],
   "source": [
    "def center_crop(x, height, width):\n",
    "    crop_h = torch.FloatTensor([x.size()[2]]).sub(height).div(-2)\n",
    "    crop_w = torch.FloatTensor([x.size()[3]]).sub(width).div(-2)\n",
    "\n",
    "    return F.pad(x, [\n",
    "        crop_w.ceil().int()[0], crop_w.floor().int()[0],\n",
    "        crop_h.ceil().int()[0], crop_h.floor().int()[0],\n",
    "    ])"
   ]
  },
  {
   "cell_type": "code",
   "execution_count": 18,
   "metadata": {},
   "outputs": [],
   "source": [
    "class Conv3Block(nn.Module):\n",
    "    def __init__(self, channels):\n",
    "        super(Conv3Block, self).__init__()\n",
    "        self._layers = nn.Sequential(nn.Conv2d(in_channels=channels[0], out_channels=channels[1], kernel_size=3, stride=1, padding=0),\n",
    "                                     nn.ReLU(),\n",
    "                                     nn.BatchNorm2d(channels[1]),\n",
    "                                     nn.Conv2d(in_channels=channels[1], out_channels=channels[2], kernel_size=3, stride=1, padding=0),\n",
    "                                     nn.ReLU(),\n",
    "                                     nn.BatchNorm2d(channels[2]),\n",
    "                                     )\n",
    "    \n",
    "    def forward(self, x):\n",
    "        return self._layers(x)\n",
    "\n",
    "\n",
    "\n",
    "class Unet(nn.Module):\n",
    "    def __init__(self, cs=64):\n",
    "        super(Unet, self).__init__()\n",
    "        self._convl1block = Conv3Block([3, cs, cs])\n",
    "        self._pool1 = nn.MaxPool2d(2)\n",
    "        \n",
    "        self._convl2block = Conv3Block([cs, 2*cs, 2*cs])\n",
    "        self._pool2 = nn.MaxPool2d(2)\n",
    "        \n",
    "        self._convl3block = Conv3Block([2*cs, 4*cs, 4*cs])\n",
    "        self._pool3 = nn.MaxPool2d(2)\n",
    "        \n",
    "        self._convl4block = Conv3Block([4*cs, 8*cs, 8*cs])\n",
    "        self._pool4 = nn.MaxPool2d(2)\n",
    "        \n",
    "        \n",
    "        self._convr1block = Conv3Block([8*cs, 16*cs, 16*cs])\n",
    "        \n",
    "        \n",
    "        self._deconv1 = nn.ConvTranspose2d(in_channels=16*cs, out_channels=8*cs, stride=2, kernel_size=4, padding=0)\n",
    "        self._convr2block = Conv3Block([16*cs, 8*cs, 8*cs])\n",
    "        \n",
    "        self._deconv2 = nn.ConvTranspose2d(in_channels=8*cs, out_channels=4*cs, stride=2, kernel_size=4, padding=0)\n",
    "        self._convr3block = Conv3Block([8*cs, 4*cs, 4*cs])\n",
    "        \n",
    "        self._deconv3 = nn.ConvTranspose2d(in_channels=4*cs, out_channels=2*cs, stride=2, kernel_size=4, padding=0)\n",
    "        self._convr4block = Conv3Block([4*cs, 2*cs, 2*cs])\n",
    "        \n",
    "        self._deconv4 = nn.ConvTranspose2d(in_channels=2*cs, out_channels=cs, stride=2, kernel_size=4, padding=0)\n",
    "        self._convr5block = Conv3Block([2*cs, cs, cs])\n",
    "        #self._deconv5 = nn.ConvTranspose2d(in_channels=4, out_channels=4, stride=3, kernel_size=2, padding=0)\n",
    "        self._conv1x1 = nn.Sequential(nn.Conv2d(in_channels=cs, out_channels=1, stride=1, kernel_size=1, padding=0))\n",
    "        \n",
    "        \n",
    "    def forward(self, x):\n",
    "        x1 = self._convl1block(x)\n",
    "        t = self._pool1(x1)\n",
    "        x2 = self._convl2block(t)\n",
    "        t = self._pool2(x2)\n",
    "        x3 = self._convl3block(t)\n",
    "        t = self._pool3(x3)\n",
    "        x4 = self._convl4block(t)\n",
    "        t = self._pool4(x4)\n",
    "        t = self._convr1block(t)\n",
    "        t = self._deconv1(t)\n",
    "        x4 = center_crop(x4, t.shape[2], t.shape[3])\n",
    "        t = torch.cat([x4,t], dim=1)\n",
    "        t = self._convr2block(t)\n",
    "        t = self._deconv2(t)\n",
    "        x3 = center_crop(x3, t.shape[2], t.shape[3])\n",
    "        t = torch.cat([x3,t], dim=1)\n",
    "        t = self._convr3block(t)\n",
    "        t = self._deconv3(t)\n",
    "        x2 = center_crop(x2, t.shape[2], t.shape[3])\n",
    "        t = torch.cat([x2,t], dim=1)\n",
    "        t = self._convr4block(t)\n",
    "        t = self._deconv4(t)\n",
    "        x1 = center_crop(x1, t.shape[2], t.shape[3])\n",
    "        t = torch.cat([x1,t], dim=1)\n",
    "        t = self._convr5block(t)\n",
    "        t = self._conv1x1(t)\n",
    "        return t"
   ]
  },
  {
   "cell_type": "code",
   "execution_count": 19,
   "metadata": {},
   "outputs": [],
   "source": [
    "unet = Unet(cs=8)"
   ]
  },
  {
   "cell_type": "code",
   "execution_count": 20,
   "metadata": {},
   "outputs": [
    {
     "data": {
      "text/plain": [
       "Unet(\n",
       "  (_convl1block): Conv3Block(\n",
       "    (_layers): Sequential(\n",
       "      (0): Conv2d(3, 8, kernel_size=(3, 3), stride=(1, 1))\n",
       "      (1): ReLU()\n",
       "      (2): BatchNorm2d(8, eps=1e-05, momentum=0.1, affine=True)\n",
       "      (3): Conv2d(8, 8, kernel_size=(3, 3), stride=(1, 1))\n",
       "      (4): ReLU()\n",
       "      (5): BatchNorm2d(8, eps=1e-05, momentum=0.1, affine=True)\n",
       "    )\n",
       "  )\n",
       "  (_pool1): MaxPool2d(kernel_size=(2, 2), stride=(2, 2), dilation=(1, 1), ceil_mode=False)\n",
       "  (_convl2block): Conv3Block(\n",
       "    (_layers): Sequential(\n",
       "      (0): Conv2d(8, 16, kernel_size=(3, 3), stride=(1, 1))\n",
       "      (1): ReLU()\n",
       "      (2): BatchNorm2d(16, eps=1e-05, momentum=0.1, affine=True)\n",
       "      (3): Conv2d(16, 16, kernel_size=(3, 3), stride=(1, 1))\n",
       "      (4): ReLU()\n",
       "      (5): BatchNorm2d(16, eps=1e-05, momentum=0.1, affine=True)\n",
       "    )\n",
       "  )\n",
       "  (_pool2): MaxPool2d(kernel_size=(2, 2), stride=(2, 2), dilation=(1, 1), ceil_mode=False)\n",
       "  (_convl3block): Conv3Block(\n",
       "    (_layers): Sequential(\n",
       "      (0): Conv2d(16, 32, kernel_size=(3, 3), stride=(1, 1))\n",
       "      (1): ReLU()\n",
       "      (2): BatchNorm2d(32, eps=1e-05, momentum=0.1, affine=True)\n",
       "      (3): Conv2d(32, 32, kernel_size=(3, 3), stride=(1, 1))\n",
       "      (4): ReLU()\n",
       "      (5): BatchNorm2d(32, eps=1e-05, momentum=0.1, affine=True)\n",
       "    )\n",
       "  )\n",
       "  (_pool3): MaxPool2d(kernel_size=(2, 2), stride=(2, 2), dilation=(1, 1), ceil_mode=False)\n",
       "  (_convl4block): Conv3Block(\n",
       "    (_layers): Sequential(\n",
       "      (0): Conv2d(32, 64, kernel_size=(3, 3), stride=(1, 1))\n",
       "      (1): ReLU()\n",
       "      (2): BatchNorm2d(64, eps=1e-05, momentum=0.1, affine=True)\n",
       "      (3): Conv2d(64, 64, kernel_size=(3, 3), stride=(1, 1))\n",
       "      (4): ReLU()\n",
       "      (5): BatchNorm2d(64, eps=1e-05, momentum=0.1, affine=True)\n",
       "    )\n",
       "  )\n",
       "  (_pool4): MaxPool2d(kernel_size=(2, 2), stride=(2, 2), dilation=(1, 1), ceil_mode=False)\n",
       "  (_convr1block): Conv3Block(\n",
       "    (_layers): Sequential(\n",
       "      (0): Conv2d(64, 128, kernel_size=(3, 3), stride=(1, 1))\n",
       "      (1): ReLU()\n",
       "      (2): BatchNorm2d(128, eps=1e-05, momentum=0.1, affine=True)\n",
       "      (3): Conv2d(128, 128, kernel_size=(3, 3), stride=(1, 1))\n",
       "      (4): ReLU()\n",
       "      (5): BatchNorm2d(128, eps=1e-05, momentum=0.1, affine=True)\n",
       "    )\n",
       "  )\n",
       "  (_deconv1): ConvTranspose2d(128, 64, kernel_size=(4, 4), stride=(2, 2))\n",
       "  (_convr2block): Conv3Block(\n",
       "    (_layers): Sequential(\n",
       "      (0): Conv2d(128, 64, kernel_size=(3, 3), stride=(1, 1))\n",
       "      (1): ReLU()\n",
       "      (2): BatchNorm2d(64, eps=1e-05, momentum=0.1, affine=True)\n",
       "      (3): Conv2d(64, 64, kernel_size=(3, 3), stride=(1, 1))\n",
       "      (4): ReLU()\n",
       "      (5): BatchNorm2d(64, eps=1e-05, momentum=0.1, affine=True)\n",
       "    )\n",
       "  )\n",
       "  (_deconv2): ConvTranspose2d(64, 32, kernel_size=(4, 4), stride=(2, 2))\n",
       "  (_convr3block): Conv3Block(\n",
       "    (_layers): Sequential(\n",
       "      (0): Conv2d(64, 32, kernel_size=(3, 3), stride=(1, 1))\n",
       "      (1): ReLU()\n",
       "      (2): BatchNorm2d(32, eps=1e-05, momentum=0.1, affine=True)\n",
       "      (3): Conv2d(32, 32, kernel_size=(3, 3), stride=(1, 1))\n",
       "      (4): ReLU()\n",
       "      (5): BatchNorm2d(32, eps=1e-05, momentum=0.1, affine=True)\n",
       "    )\n",
       "  )\n",
       "  (_deconv3): ConvTranspose2d(32, 16, kernel_size=(4, 4), stride=(2, 2))\n",
       "  (_convr4block): Conv3Block(\n",
       "    (_layers): Sequential(\n",
       "      (0): Conv2d(32, 16, kernel_size=(3, 3), stride=(1, 1))\n",
       "      (1): ReLU()\n",
       "      (2): BatchNorm2d(16, eps=1e-05, momentum=0.1, affine=True)\n",
       "      (3): Conv2d(16, 16, kernel_size=(3, 3), stride=(1, 1))\n",
       "      (4): ReLU()\n",
       "      (5): BatchNorm2d(16, eps=1e-05, momentum=0.1, affine=True)\n",
       "    )\n",
       "  )\n",
       "  (_deconv4): ConvTranspose2d(16, 8, kernel_size=(4, 4), stride=(2, 2))\n",
       "  (_convr5block): Conv3Block(\n",
       "    (_layers): Sequential(\n",
       "      (0): Conv2d(16, 8, kernel_size=(3, 3), stride=(1, 1))\n",
       "      (1): ReLU()\n",
       "      (2): BatchNorm2d(8, eps=1e-05, momentum=0.1, affine=True)\n",
       "      (3): Conv2d(8, 8, kernel_size=(3, 3), stride=(1, 1))\n",
       "      (4): ReLU()\n",
       "      (5): BatchNorm2d(8, eps=1e-05, momentum=0.1, affine=True)\n",
       "    )\n",
       "  )\n",
       "  (_conv1x1): Sequential(\n",
       "    (0): Conv2d(8, 1, kernel_size=(1, 1), stride=(1, 1))\n",
       "  )\n",
       ")"
      ]
     },
     "execution_count": 20,
     "metadata": {},
     "output_type": "execute_result"
    }
   ],
   "source": [
    "unet"
   ]
  },
  {
   "cell_type": "code",
   "execution_count": 21,
   "metadata": {},
   "outputs": [],
   "source": [
    "im, target = next(iter(training_dataloader))\n",
    "output = unet(Variable(im)).data"
   ]
  },
  {
   "cell_type": "code",
   "execution_count": 22,
   "metadata": {},
   "outputs": [
    {
     "data": {
      "text/plain": [
       "torch.Size([8, 1, 98, 98])"
      ]
     },
     "execution_count": 22,
     "metadata": {},
     "output_type": "execute_result"
    }
   ],
   "source": [
    "output.shape"
   ]
  },
  {
   "cell_type": "markdown",
   "metadata": {},
   "source": []
  },
  {
   "cell_type": "markdown",
   "metadata": {},
   "source": [
    "target.shape"
   ]
  },
  {
   "cell_type": "markdown",
   "metadata": {},
   "source": [
    "im.shape"
   ]
  },
  {
   "cell_type": "markdown",
   "metadata": {},
   "source": [
    "unet(Variable(im.cuda()))"
   ]
  },
  {
   "cell_type": "code",
   "execution_count": 23,
   "metadata": {},
   "outputs": [],
   "source": [
    "from collections import defaultdict"
   ]
  },
  {
   "cell_type": "code",
   "execution_count": 24,
   "metadata": {},
   "outputs": [],
   "source": [
    "import time\n",
    "class Trainer(object):\n",
    "    def __init__(self, model, optimizer, criterion, logging_frecuency=200):\n",
    "        self._model = model\n",
    "        self._optimizer = optimizer\n",
    "        self._log_frec = logging_frecuency\n",
    "        self._criterion = criterion\n",
    "        self._history = defaultdict(list)\n",
    "\n",
    "    def history(self, name):\n",
    "        return self._history[name]\n",
    "\n",
    "    def _log(self, i):\n",
    "        total_steps = self._num_batchs // self._log_frec\n",
    "        print('[e: {}/{}, s: {}/{}]. loss: {:.3f}. time: {:.3f} secs'.format(self._epoch, self._total_epochs,\n",
    "                                                                     i, total_steps,\n",
    "                                                                     self._running_loss / self._log_frec,\n",
    "                                                                     self._running_time / self._log_frec))\n",
    "        self._running_loss = 0\n",
    "        self._running_time = 0\n",
    "\n",
    "\n",
    "    def step_batch(self, x, target, i):\n",
    "        start_time = time.time()\n",
    "        \n",
    "        if USE_CUDA:\n",
    "            x = x.cuda()\n",
    "            target = target.cuda()\n",
    "\n",
    "        x = Variable(x)\n",
    "        target = Variable(target)\n",
    "        \n",
    "        \n",
    "        self._model.train()\n",
    "        self._optimizer.zero_grad()\n",
    "        output = self._model(x)\n",
    "        loss = self._criterion(output, target)\n",
    "        loss.backward()\n",
    "        self._optimizer.step()\n",
    "        \n",
    "        end_time = time.time()\n",
    "        \n",
    "        self._running_loss += loss.data[0]\n",
    "        self._running_time += end_time - start_time\n",
    "        \n",
    "    def step(self, dataloader, valid_dl=None):\n",
    "\n",
    "        #self._validation_metrics = {'val_d' : 0.0, 'val_g' : 0.0}\n",
    "\n",
    "        for i, (x, target) in enumerate(dataloader):\n",
    "            self.step_batch(x, target, i)\n",
    "\n",
    "            if i % self._log_frec == self._log_frec-1:\n",
    "                self._log((i+1) // self._log_frec)\n",
    "        self._epoch += 1\n",
    "\n",
    "    def fit(self, dataloader, epochs=1, valid_dl=None):\n",
    "        self._running_loss = 0.0\n",
    "        self._running_time = 0\n",
    "        self._total_epochs = epochs\n",
    "        self._num_batchs = len(dataloader)\n",
    "        self._epoch = 1\n",
    "        \n",
    "        while self._epoch <= self._total_epochs:\n",
    "            self.step(dataloader, valid_dl)\n",
    "        self._model.eval()\n",
    "\n",
    "    def _score(self, score_dl):\n",
    "        total_count = 0\n",
    "        total_score = 0\n",
    "        for count, score in score_dl:\n",
    "            total_score += score\n",
    "            total_count += count\n",
    "\n",
    "        return total_score / total_count"
   ]
  },
  {
   "cell_type": "code",
   "execution_count": 25,
   "metadata": {},
   "outputs": [],
   "source": [
    "optimizer = optim.SGD(unet.parameters(), lr=1e-2)"
   ]
  },
  {
   "cell_type": "code",
   "execution_count": 26,
   "metadata": {},
   "outputs": [],
   "source": [
    "criterion = nn.BCEWithLogitsLoss()"
   ]
  },
  {
   "cell_type": "code",
   "execution_count": 27,
   "metadata": {},
   "outputs": [],
   "source": [
    "trainer = Trainer(unet, optimizer, criterion, logging_frecuency=10)"
   ]
  },
  {
   "cell_type": "code",
   "execution_count": 28,
   "metadata": {},
   "outputs": [
    {
     "name": "stdout",
     "output_type": "stream",
     "text": [
      "[e: 1/20, s: 1/6]. loss: 0.700. time: 0.946 secs\n",
      "[e: 1/20, s: 2/6]. loss: 0.683. time: 0.855 secs\n",
      "[e: 1/20, s: 3/6]. loss: 0.662. time: 0.770 secs\n",
      "[e: 1/20, s: 4/6]. loss: 0.646. time: 0.711 secs\n",
      "[e: 1/20, s: 5/6]. loss: 0.626. time: 0.739 secs\n",
      "[e: 1/20, s: 6/6]. loss: 0.622. time: 0.767 secs\n",
      "[e: 2/20, s: 1/6]. loss: 1.014. time: 1.319 secs\n",
      "[e: 2/20, s: 2/6]. loss: 0.582. time: 0.783 secs\n",
      "[e: 2/20, s: 3/6]. loss: 0.564. time: 0.922 secs\n",
      "[e: 2/20, s: 4/6]. loss: 0.563. time: 0.733 secs\n",
      "[e: 2/20, s: 5/6]. loss: 0.539. time: 0.809 secs\n",
      "[e: 2/20, s: 6/6]. loss: 0.544. time: 0.927 secs\n",
      "[e: 3/20, s: 1/6]. loss: 0.893. time: 1.417 secs\n",
      "[e: 3/20, s: 2/6]. loss: 0.526. time: 0.795 secs\n",
      "[e: 3/20, s: 3/6]. loss: 0.507. time: 0.778 secs\n",
      "[e: 3/20, s: 4/6]. loss: 0.499. time: 0.789 secs\n",
      "[e: 3/20, s: 5/6]. loss: 0.482. time: 0.706 secs\n",
      "[e: 3/20, s: 6/6]. loss: 0.497. time: 0.683 secs\n",
      "[e: 4/20, s: 1/6]. loss: 0.813. time: 1.210 secs\n",
      "[e: 4/20, s: 2/6]. loss: 0.486. time: 0.751 secs\n",
      "[e: 4/20, s: 3/6]. loss: 0.482. time: 0.691 secs\n",
      "[e: 4/20, s: 4/6]. loss: 0.455. time: 0.765 secs\n",
      "[e: 4/20, s: 5/6]. loss: 0.442. time: 0.679 secs\n",
      "[e: 4/20, s: 6/6]. loss: 0.452. time: 0.692 secs\n",
      "[e: 5/20, s: 1/6]. loss: 0.753. time: 1.291 secs\n",
      "[e: 5/20, s: 2/6]. loss: 0.452. time: 0.735 secs\n",
      "[e: 5/20, s: 3/6]. loss: 0.426. time: 0.688 secs\n",
      "[e: 5/20, s: 4/6]. loss: 0.437. time: 0.691 secs\n",
      "[e: 5/20, s: 5/6]. loss: 0.431. time: 0.709 secs\n",
      "[e: 5/20, s: 6/6]. loss: 0.430. time: 0.716 secs\n",
      "[e: 6/20, s: 1/6]. loss: 0.735. time: 1.247 secs\n",
      "[e: 6/20, s: 2/6]. loss: 0.440. time: 0.680 secs\n",
      "[e: 6/20, s: 3/6]. loss: 0.431. time: 0.799 secs\n",
      "[e: 6/20, s: 4/6]. loss: 0.396. time: 0.852 secs\n",
      "[e: 6/20, s: 5/6]. loss: 0.405. time: 0.720 secs\n",
      "[e: 6/20, s: 6/6]. loss: 0.394. time: 0.814 secs\n",
      "[e: 7/20, s: 1/6]. loss: 0.680. time: 1.566 secs\n",
      "[e: 7/20, s: 2/6]. loss: 0.401. time: 0.803 secs\n",
      "[e: 7/20, s: 3/6]. loss: 0.411. time: 0.729 secs\n",
      "[e: 7/20, s: 4/6]. loss: 0.421. time: 0.813 secs\n",
      "[e: 7/20, s: 5/6]. loss: 0.399. time: 0.855 secs\n",
      "[e: 7/20, s: 6/6]. loss: 0.416. time: 0.798 secs\n",
      "[e: 8/20, s: 1/6]. loss: 0.671. time: 1.286 secs\n",
      "[e: 8/20, s: 2/6]. loss: 0.395. time: 0.809 secs\n",
      "[e: 8/20, s: 3/6]. loss: 0.411. time: 0.716 secs\n",
      "[e: 8/20, s: 4/6]. loss: 0.379. time: 0.684 secs\n",
      "[e: 8/20, s: 5/6]. loss: 0.389. time: 0.704 secs\n",
      "[e: 8/20, s: 6/6]. loss: 0.390. time: 0.765 secs\n",
      "[e: 9/20, s: 1/6]. loss: 0.663. time: 1.344 secs\n",
      "[e: 9/20, s: 2/6]. loss: 0.393. time: 0.723 secs\n",
      "[e: 9/20, s: 3/6]. loss: 0.369. time: 0.954 secs\n",
      "[e: 9/20, s: 4/6]. loss: 0.387. time: 0.852 secs\n",
      "[e: 9/20, s: 5/6]. loss: 0.392. time: 0.807 secs\n",
      "[e: 9/20, s: 6/6]. loss: 0.404. time: 0.767 secs\n",
      "[e: 10/20, s: 1/6]. loss: 0.674. time: 1.354 secs\n",
      "[e: 10/20, s: 2/6]. loss: 0.399. time: 0.751 secs\n",
      "[e: 10/20, s: 3/6]. loss: 0.371. time: 0.778 secs\n",
      "[e: 10/20, s: 4/6]. loss: 0.371. time: 0.785 secs\n",
      "[e: 10/20, s: 5/6]. loss: 0.370. time: 0.752 secs\n",
      "[e: 10/20, s: 6/6]. loss: 0.398. time: 0.793 secs\n",
      "[e: 11/20, s: 1/6]. loss: 0.648. time: 1.532 secs\n",
      "[e: 11/20, s: 2/6]. loss: 0.387. time: 0.808 secs\n",
      "[e: 11/20, s: 3/6]. loss: 0.359. time: 0.720 secs\n",
      "[e: 11/20, s: 4/6]. loss: 0.378. time: 0.761 secs\n",
      "[e: 11/20, s: 5/6]. loss: 0.383. time: 0.710 secs\n",
      "[e: 11/20, s: 6/6]. loss: 0.378. time: 0.754 secs\n",
      "[e: 12/20, s: 1/6]. loss: 0.655. time: 1.213 secs\n",
      "[e: 12/20, s: 2/6]. loss: 0.359. time: 0.750 secs\n",
      "[e: 12/20, s: 3/6]. loss: 0.391. time: 0.752 secs\n",
      "[e: 12/20, s: 4/6]. loss: 0.358. time: 0.698 secs\n",
      "[e: 12/20, s: 5/6]. loss: 0.384. time: 0.671 secs\n",
      "[e: 12/20, s: 6/6]. loss: 0.415. time: 0.690 secs\n",
      "[e: 13/20, s: 1/6]. loss: 0.623. time: 1.336 secs\n",
      "[e: 13/20, s: 2/6]. loss: 0.401. time: 0.748 secs\n",
      "[e: 13/20, s: 3/6]. loss: 0.389. time: 0.682 secs\n",
      "[e: 13/20, s: 4/6]. loss: 0.387. time: 0.695 secs\n",
      "[e: 13/20, s: 5/6]. loss: 0.358. time: 0.795 secs\n",
      "[e: 13/20, s: 6/6]. loss: 0.354. time: 0.699 secs\n",
      "[e: 14/20, s: 1/6]. loss: 0.665. time: 1.335 secs\n",
      "[e: 14/20, s: 2/6]. loss: 0.365. time: 0.754 secs\n",
      "[e: 14/20, s: 3/6]. loss: 0.385. time: 0.691 secs\n",
      "[e: 14/20, s: 4/6]. loss: 0.354. time: 0.814 secs\n",
      "[e: 14/20, s: 5/6]. loss: 0.372. time: 0.977 secs\n",
      "[e: 14/20, s: 6/6]. loss: 0.368. time: 0.789 secs\n",
      "[e: 15/20, s: 1/6]. loss: 0.648. time: 1.326 secs\n",
      "[e: 15/20, s: 2/6]. loss: 0.364. time: 0.743 secs\n",
      "[e: 15/20, s: 3/6]. loss: 0.361. time: 0.686 secs\n",
      "[e: 15/20, s: 4/6]. loss: 0.379. time: 0.741 secs\n",
      "[e: 15/20, s: 5/6]. loss: 0.373. time: 0.723 secs\n",
      "[e: 15/20, s: 6/6]. loss: 0.364. time: 0.747 secs\n",
      "[e: 16/20, s: 1/6]. loss: 0.641. time: 1.237 secs\n",
      "[e: 16/20, s: 2/6]. loss: 0.371. time: 0.718 secs\n",
      "[e: 16/20, s: 3/6]. loss: 0.356. time: 0.745 secs\n"
     ]
    },
    {
     "name": "stderr",
     "output_type": "stream",
     "text": [
      "Process Process-33:\n",
      "Process Process-34:\n",
      "Traceback (most recent call last):\n",
      "  File \"/usr/lib/python3.6/multiprocessing/process.py\", line 258, in _bootstrap\n",
      "    self.run()\n",
      "  File \"/usr/lib/python3.6/multiprocessing/process.py\", line 93, in run\n",
      "    self._target(*self._args, **self._kwargs)\n",
      "  File \"/usr/lib/python3.6/site-packages/torch/utils/data/dataloader.py\", line 55, in _worker_loop\n",
      "    samples = collate_fn([dataset[i] for i in batch_indices])\n",
      "  File \"/usr/lib/python3.6/site-packages/torch/utils/data/dataloader.py\", line 55, in <listcomp>\n",
      "    samples = collate_fn([dataset[i] for i in batch_indices])\n",
      "  File \"<ipython-input-3-10f48560a685>\", line 23, in __getitem__\n",
      "    final_mask.paste(mask, (0,0), mask)\n",
      "  File \"/usr/lib/python3.6/site-packages/PIL/Image.py\", line 1341, in paste\n",
      "    self.im.paste(im, box, mask.im)\n",
      "KeyboardInterrupt\n",
      "Traceback (most recent call last):\n",
      "  File \"/usr/lib/python3.6/multiprocessing/process.py\", line 258, in _bootstrap\n",
      "    self.run()\n",
      "  File \"/usr/lib/python3.6/multiprocessing/process.py\", line 93, in run\n",
      "    self._target(*self._args, **self._kwargs)\n",
      "  File \"/usr/lib/python3.6/site-packages/torch/utils/data/dataloader.py\", line 50, in _worker_loop\n",
      "    r = index_queue.get()\n",
      "  File \"/usr/lib/python3.6/multiprocessing/queues.py\", line 335, in get\n",
      "    res = self._reader.recv_bytes()\n",
      "  File \"/usr/lib/python3.6/multiprocessing/connection.py\", line 216, in recv_bytes\n",
      "    buf = self._recv_bytes(maxlength)\n",
      "  File \"/usr/lib/python3.6/multiprocessing/connection.py\", line 407, in _recv_bytes\n",
      "    buf = self._recv(4)\n",
      "  File \"/usr/lib/python3.6/multiprocessing/connection.py\", line 379, in _recv\n",
      "    chunk = read(handle, remaining)\n",
      "KeyboardInterrupt\n",
      "Exception ignored in: <bound method DataLoaderIter.__del__ of <torch.utils.data.dataloader.DataLoaderIter object at 0x7f1090db32e8>>\n",
      "Traceback (most recent call last):\n",
      "  File \"/usr/lib/python3.6/site-packages/torch/utils/data/dataloader.py\", line 333, in __del__\n",
      "    self._shutdown_workers()\n",
      "  File \"/usr/lib/python3.6/site-packages/torch/utils/data/dataloader.py\", line 319, in _shutdown_workers\n",
      "    self.data_queue.get()\n",
      "  File \"/usr/lib/python3.6/multiprocessing/queues.py\", line 337, in get\n",
      "    return _ForkingPickler.loads(res)\n",
      "  File \"/usr/lib/python3.6/site-packages/torch/multiprocessing/reductions.py\", line 70, in rebuild_storage_fd\n",
      "    fd = df.detach()\n",
      "  File \"/usr/lib/python3.6/multiprocessing/resource_sharer.py\", line 57, in detach\n",
      "    with _resource_sharer.get_connection(self._id) as conn:\n",
      "  File \"/usr/lib/python3.6/multiprocessing/resource_sharer.py\", line 87, in get_connection\n",
      "    c = Client(address, authkey=process.current_process().authkey)\n",
      "  File \"/usr/lib/python3.6/multiprocessing/connection.py\", line 487, in Client\n",
      "    c = SocketClient(address)\n",
      "  File \"/usr/lib/python3.6/multiprocessing/connection.py\", line 614, in SocketClient\n",
      "    s.connect(address)\n",
      "FileNotFoundError: [Errno 2] No such file or directory\n"
     ]
    },
    {
     "ename": "KeyboardInterrupt",
     "evalue": "",
     "output_type": "error",
     "traceback": [
      "\u001b[0;31m---------------------------------------------------------------------------\u001b[0m",
      "\u001b[0;31mKeyboardInterrupt\u001b[0m                         Traceback (most recent call last)",
      "\u001b[0;32m<ipython-input-28-7125c5027c9b>\u001b[0m in \u001b[0;36m<module>\u001b[0;34m()\u001b[0m\n\u001b[0;32m----> 1\u001b[0;31m \u001b[0mtrainer\u001b[0m\u001b[0;34m.\u001b[0m\u001b[0mfit\u001b[0m\u001b[0;34m(\u001b[0m\u001b[0mtraining_dataloader\u001b[0m\u001b[0;34m,\u001b[0m \u001b[0mepochs\u001b[0m\u001b[0;34m=\u001b[0m\u001b[0;36m20\u001b[0m\u001b[0;34m)\u001b[0m\u001b[0;34m\u001b[0m\u001b[0m\n\u001b[0m",
      "\u001b[0;32m<ipython-input-24-734983dcfb61>\u001b[0m in \u001b[0;36mfit\u001b[0;34m(self, dataloader, epochs, valid_dl)\u001b[0m\n\u001b[1;32m     63\u001b[0m \u001b[0;34m\u001b[0m\u001b[0m\n\u001b[1;32m     64\u001b[0m         \u001b[0;32mwhile\u001b[0m \u001b[0mself\u001b[0m\u001b[0;34m.\u001b[0m\u001b[0m_epoch\u001b[0m \u001b[0;34m<=\u001b[0m \u001b[0mself\u001b[0m\u001b[0;34m.\u001b[0m\u001b[0m_total_epochs\u001b[0m\u001b[0;34m:\u001b[0m\u001b[0;34m\u001b[0m\u001b[0m\n\u001b[0;32m---> 65\u001b[0;31m             \u001b[0mself\u001b[0m\u001b[0;34m.\u001b[0m\u001b[0mstep\u001b[0m\u001b[0;34m(\u001b[0m\u001b[0mdataloader\u001b[0m\u001b[0;34m,\u001b[0m \u001b[0mvalid_dl\u001b[0m\u001b[0;34m)\u001b[0m\u001b[0;34m\u001b[0m\u001b[0m\n\u001b[0m\u001b[1;32m     66\u001b[0m         \u001b[0mself\u001b[0m\u001b[0;34m.\u001b[0m\u001b[0m_model\u001b[0m\u001b[0;34m.\u001b[0m\u001b[0meval\u001b[0m\u001b[0;34m(\u001b[0m\u001b[0;34m)\u001b[0m\u001b[0;34m\u001b[0m\u001b[0m\n\u001b[1;32m     67\u001b[0m \u001b[0;34m\u001b[0m\u001b[0m\n",
      "\u001b[0;32m<ipython-input-24-734983dcfb61>\u001b[0m in \u001b[0;36mstep\u001b[0;34m(self, dataloader, valid_dl)\u001b[0m\n\u001b[1;32m     49\u001b[0m \u001b[0;34m\u001b[0m\u001b[0m\n\u001b[1;32m     50\u001b[0m         \u001b[0;32mfor\u001b[0m \u001b[0mi\u001b[0m\u001b[0;34m,\u001b[0m \u001b[0;34m(\u001b[0m\u001b[0mx\u001b[0m\u001b[0;34m,\u001b[0m \u001b[0mtarget\u001b[0m\u001b[0;34m)\u001b[0m \u001b[0;32min\u001b[0m \u001b[0menumerate\u001b[0m\u001b[0;34m(\u001b[0m\u001b[0mdataloader\u001b[0m\u001b[0;34m)\u001b[0m\u001b[0;34m:\u001b[0m\u001b[0;34m\u001b[0m\u001b[0m\n\u001b[0;32m---> 51\u001b[0;31m             \u001b[0mself\u001b[0m\u001b[0;34m.\u001b[0m\u001b[0mstep_batch\u001b[0m\u001b[0;34m(\u001b[0m\u001b[0mx\u001b[0m\u001b[0;34m,\u001b[0m \u001b[0mtarget\u001b[0m\u001b[0;34m,\u001b[0m \u001b[0mi\u001b[0m\u001b[0;34m)\u001b[0m\u001b[0;34m\u001b[0m\u001b[0m\n\u001b[0m\u001b[1;32m     52\u001b[0m \u001b[0;34m\u001b[0m\u001b[0m\n\u001b[1;32m     53\u001b[0m             \u001b[0;32mif\u001b[0m \u001b[0mi\u001b[0m \u001b[0;34m%\u001b[0m \u001b[0mself\u001b[0m\u001b[0;34m.\u001b[0m\u001b[0m_log_frec\u001b[0m \u001b[0;34m==\u001b[0m \u001b[0mself\u001b[0m\u001b[0;34m.\u001b[0m\u001b[0m_log_frec\u001b[0m\u001b[0;34m-\u001b[0m\u001b[0;36m1\u001b[0m\u001b[0;34m:\u001b[0m\u001b[0;34m\u001b[0m\u001b[0m\n",
      "\u001b[0;32m<ipython-input-24-734983dcfb61>\u001b[0m in \u001b[0;36mstep_batch\u001b[0;34m(self, x, target, i)\u001b[0m\n\u001b[1;32m     35\u001b[0m         \u001b[0mself\u001b[0m\u001b[0;34m.\u001b[0m\u001b[0m_optimizer\u001b[0m\u001b[0;34m.\u001b[0m\u001b[0mzero_grad\u001b[0m\u001b[0;34m(\u001b[0m\u001b[0;34m)\u001b[0m\u001b[0;34m\u001b[0m\u001b[0m\n\u001b[1;32m     36\u001b[0m         \u001b[0moutput\u001b[0m \u001b[0;34m=\u001b[0m \u001b[0mself\u001b[0m\u001b[0;34m.\u001b[0m\u001b[0m_model\u001b[0m\u001b[0;34m(\u001b[0m\u001b[0mx\u001b[0m\u001b[0;34m)\u001b[0m\u001b[0;34m\u001b[0m\u001b[0m\n\u001b[0;32m---> 37\u001b[0;31m         \u001b[0mloss\u001b[0m \u001b[0;34m=\u001b[0m \u001b[0mself\u001b[0m\u001b[0;34m.\u001b[0m\u001b[0m_criterion\u001b[0m\u001b[0;34m(\u001b[0m\u001b[0moutput\u001b[0m\u001b[0;34m,\u001b[0m \u001b[0mtarget\u001b[0m\u001b[0;34m)\u001b[0m\u001b[0;34m\u001b[0m\u001b[0m\n\u001b[0m\u001b[1;32m     38\u001b[0m         \u001b[0mloss\u001b[0m\u001b[0;34m.\u001b[0m\u001b[0mbackward\u001b[0m\u001b[0;34m(\u001b[0m\u001b[0;34m)\u001b[0m\u001b[0;34m\u001b[0m\u001b[0m\n\u001b[1;32m     39\u001b[0m         \u001b[0mself\u001b[0m\u001b[0;34m.\u001b[0m\u001b[0m_optimizer\u001b[0m\u001b[0;34m.\u001b[0m\u001b[0mstep\u001b[0m\u001b[0;34m(\u001b[0m\u001b[0;34m)\u001b[0m\u001b[0;34m\u001b[0m\u001b[0m\n",
      "\u001b[0;32m/usr/lib/python3.6/site-packages/torch/nn/modules/module.py\u001b[0m in \u001b[0;36m__call__\u001b[0;34m(self, *input, **kwargs)\u001b[0m\n\u001b[1;32m    355\u001b[0m             \u001b[0mresult\u001b[0m \u001b[0;34m=\u001b[0m \u001b[0mself\u001b[0m\u001b[0;34m.\u001b[0m\u001b[0m_slow_forward\u001b[0m\u001b[0;34m(\u001b[0m\u001b[0;34m*\u001b[0m\u001b[0minput\u001b[0m\u001b[0;34m,\u001b[0m \u001b[0;34m**\u001b[0m\u001b[0mkwargs\u001b[0m\u001b[0;34m)\u001b[0m\u001b[0;34m\u001b[0m\u001b[0m\n\u001b[1;32m    356\u001b[0m         \u001b[0;32melse\u001b[0m\u001b[0;34m:\u001b[0m\u001b[0;34m\u001b[0m\u001b[0m\n\u001b[0;32m--> 357\u001b[0;31m             \u001b[0mresult\u001b[0m \u001b[0;34m=\u001b[0m \u001b[0mself\u001b[0m\u001b[0;34m.\u001b[0m\u001b[0mforward\u001b[0m\u001b[0;34m(\u001b[0m\u001b[0;34m*\u001b[0m\u001b[0minput\u001b[0m\u001b[0;34m,\u001b[0m \u001b[0;34m**\u001b[0m\u001b[0mkwargs\u001b[0m\u001b[0;34m)\u001b[0m\u001b[0;34m\u001b[0m\u001b[0m\n\u001b[0m\u001b[1;32m    358\u001b[0m         \u001b[0;32mfor\u001b[0m \u001b[0mhook\u001b[0m \u001b[0;32min\u001b[0m \u001b[0mself\u001b[0m\u001b[0;34m.\u001b[0m\u001b[0m_forward_hooks\u001b[0m\u001b[0;34m.\u001b[0m\u001b[0mvalues\u001b[0m\u001b[0;34m(\u001b[0m\u001b[0;34m)\u001b[0m\u001b[0;34m:\u001b[0m\u001b[0;34m\u001b[0m\u001b[0m\n\u001b[1;32m    359\u001b[0m             \u001b[0mhook_result\u001b[0m \u001b[0;34m=\u001b[0m \u001b[0mhook\u001b[0m\u001b[0;34m(\u001b[0m\u001b[0mself\u001b[0m\u001b[0;34m,\u001b[0m \u001b[0minput\u001b[0m\u001b[0;34m,\u001b[0m \u001b[0mresult\u001b[0m\u001b[0;34m)\u001b[0m\u001b[0;34m\u001b[0m\u001b[0m\n",
      "\u001b[0;32m/usr/lib/python3.6/site-packages/torch/nn/modules/loss.py\u001b[0m in \u001b[0;36mforward\u001b[0;34m(self, input, target)\u001b[0m\n\u001b[1;32m    487\u001b[0m             \u001b[0;32mreturn\u001b[0m \u001b[0mF\u001b[0m\u001b[0;34m.\u001b[0m\u001b[0mbinary_cross_entropy_with_logits\u001b[0m\u001b[0;34m(\u001b[0m\u001b[0minput\u001b[0m\u001b[0;34m,\u001b[0m \u001b[0mtarget\u001b[0m\u001b[0;34m,\u001b[0m \u001b[0mVariable\u001b[0m\u001b[0;34m(\u001b[0m\u001b[0mself\u001b[0m\u001b[0;34m.\u001b[0m\u001b[0mweight\u001b[0m\u001b[0;34m)\u001b[0m\u001b[0;34m,\u001b[0m \u001b[0mself\u001b[0m\u001b[0;34m.\u001b[0m\u001b[0msize_average\u001b[0m\u001b[0;34m)\u001b[0m\u001b[0;34m\u001b[0m\u001b[0m\n\u001b[1;32m    488\u001b[0m         \u001b[0;32melse\u001b[0m\u001b[0;34m:\u001b[0m\u001b[0;34m\u001b[0m\u001b[0m\n\u001b[0;32m--> 489\u001b[0;31m             \u001b[0;32mreturn\u001b[0m \u001b[0mF\u001b[0m\u001b[0;34m.\u001b[0m\u001b[0mbinary_cross_entropy_with_logits\u001b[0m\u001b[0;34m(\u001b[0m\u001b[0minput\u001b[0m\u001b[0;34m,\u001b[0m \u001b[0mtarget\u001b[0m\u001b[0;34m,\u001b[0m \u001b[0msize_average\u001b[0m\u001b[0;34m=\u001b[0m\u001b[0mself\u001b[0m\u001b[0;34m.\u001b[0m\u001b[0msize_average\u001b[0m\u001b[0;34m)\u001b[0m\u001b[0;34m\u001b[0m\u001b[0m\n\u001b[0m\u001b[1;32m    490\u001b[0m \u001b[0;34m\u001b[0m\u001b[0m\n\u001b[1;32m    491\u001b[0m \u001b[0;34m\u001b[0m\u001b[0m\n",
      "\u001b[0;32m/usr/lib/python3.6/site-packages/torch/nn/functional.py\u001b[0m in \u001b[0;36mbinary_cross_entropy_with_logits\u001b[0;34m(input, target, weight, size_average)\u001b[0m\n\u001b[1;32m   1234\u001b[0m \u001b[0;34m\u001b[0m\u001b[0m\n\u001b[1;32m   1235\u001b[0m     \u001b[0;32mif\u001b[0m \u001b[0msize_average\u001b[0m\u001b[0;34m:\u001b[0m\u001b[0;34m\u001b[0m\u001b[0m\n\u001b[0;32m-> 1236\u001b[0;31m         \u001b[0;32mreturn\u001b[0m \u001b[0mloss\u001b[0m\u001b[0;34m.\u001b[0m\u001b[0mmean\u001b[0m\u001b[0;34m(\u001b[0m\u001b[0;34m)\u001b[0m\u001b[0;34m\u001b[0m\u001b[0m\n\u001b[0m\u001b[1;32m   1237\u001b[0m     \u001b[0;32melse\u001b[0m\u001b[0;34m:\u001b[0m\u001b[0;34m\u001b[0m\u001b[0m\n\u001b[1;32m   1238\u001b[0m         \u001b[0;32mreturn\u001b[0m \u001b[0mloss\u001b[0m\u001b[0;34m.\u001b[0m\u001b[0msum\u001b[0m\u001b[0;34m(\u001b[0m\u001b[0;34m)\u001b[0m\u001b[0;34m\u001b[0m\u001b[0m\n",
      "\u001b[0;31mKeyboardInterrupt\u001b[0m: "
     ]
    }
   ],
   "source": [
    "trainer.fit(training_dataloader, epochs=20)"
   ]
  },
  {
   "cell_type": "code",
   "execution_count": null,
   "metadata": {},
   "outputs": [],
   "source": [
    "im, target = next(iter(training_dataloader))\n",
    "output = unet(Variable(im)).data"
   ]
  },
  {
   "cell_type": "code",
   "execution_count": null,
   "metadata": {},
   "outputs": [],
   "source": []
  },
  {
   "cell_type": "code",
   "execution_count": null,
   "metadata": {},
   "outputs": [],
   "source": [
    "target.shape"
   ]
  },
  {
   "cell_type": "code",
   "execution_count": null,
   "metadata": {},
   "outputs": [],
   "source": [
    "ROWS = 8\n",
    "COLS = 1\n",
    "\n",
    "fig = plt.figure(1, (10., 10.))\n",
    "grid = ImageGrid(fig, 111,\n",
    "                 nrows_ncols=(ROWS, COLS),\n",
    "                 axes_pad=0.2,\n",
    "                 )\n",
    "\n",
    "for i in range(ROWS):\n",
    "    x = im[i].permute(1,2,0)\n",
    "    grid[i*COLS+0].imshow(x.numpy())\n",
    "plt.show()"
   ]
  },
  {
   "cell_type": "code",
   "execution_count": null,
   "metadata": {},
   "outputs": [],
   "source": [
    "ROWS = 8\n",
    "COLS = 2\n",
    "\n",
    "fig = plt.figure(1, (5., 40.))\n",
    "grid = ImageGrid(fig, 211,\n",
    "                 nrows_ncols=(ROWS, COLS),\n",
    "                  direction=\"row\",\n",
    "                      axes_pad=0.05,\n",
    "                      add_all=True,\n",
    "                      label_mode=\"1\",\n",
    "                share_all=True,\n",
    "                cbar_location=\"right\",\n",
    "                cbar_mode=\"each\",\n",
    "                cbar_size=\"5%\",\n",
    "                cbar_pad=\"1%\",\n",
    "                cbar_set_cax=True\n",
    "                 \n",
    "                 )\n",
    "\n",
    "for i in range(ROWS):\n",
    "    y = target[i].squeeze(0)\n",
    "    o = F.sigmoid(output[i]).squeeze(0)\n",
    "\n",
    "    grid[i*COLS+0].imshow(y.numpy())\n",
    "    grid[i*COLS+1].imshow(o.numpy())\n",
    "    #grid[i*COLS+1].cax.colorbar(xxx)\n",
    "\n",
    "\n",
    "plt.draw()\n",
    "plt.show()"
   ]
  },
  {
   "cell_type": "code",
   "execution_count": null,
   "metadata": {},
   "outputs": [],
   "source": []
  }
 ],
 "metadata": {
  "kernelspec": {
   "display_name": "Python 3",
   "language": "python",
   "name": "python3"
  },
  "language_info": {
   "codemirror_mode": {
    "name": "ipython",
    "version": 3
   },
   "file_extension": ".py",
   "mimetype": "text/x-python",
   "name": "python",
   "nbconvert_exporter": "python",
   "pygments_lexer": "ipython3",
   "version": "3.6.4"
  }
 },
 "nbformat": 4,
 "nbformat_minor": 2
}
