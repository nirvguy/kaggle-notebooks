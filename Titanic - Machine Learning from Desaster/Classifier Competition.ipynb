{
 "cells": [
  {
   "cell_type": "code",
   "execution_count": 1,
   "metadata": {
    "collapsed": true
   },
   "outputs": [],
   "source": [
    "import pandas as pd\n",
    "import numpy as np\n",
    "\n",
    "from sklearn.feature_extraction.text import CountVectorizer\n",
    "from sklearn.feature_extraction import DictVectorizer\n",
    "from sklearn.preprocessing import StandardScaler\n",
    "from sklearn.preprocessing import LabelBinarizer\n",
    "from sklearn.neural_network import MLPClassifier\n",
    "from sklearn.neighbors import KNeighborsClassifier\n",
    "from sklearn.ensemble import RandomForestClassifier\n",
    "from sklearn.model_selection import train_test_split\n",
    "from sklearn.metrics import accuracy_score\n",
    "from sklearn.metrics import confusion_matrix\n",
    "from sklearn import tree\n",
    "from sklearn.svm import SVC\n",
    "from collections import OrderedDict"
   ]
  },
  {
   "cell_type": "markdown",
   "metadata": {},
   "source": [
    "Load the training database into pandas and split the survived column"
   ]
  },
  {
   "cell_type": "code",
   "execution_count": 2,
   "metadata": {
    "collapsed": true,
    "scrolled": true
   },
   "outputs": [],
   "source": [
    "training = pd.read_csv('data/train.csv')\n",
    "training_survived = np.array(training.Survived)"
   ]
  },
  {
   "cell_type": "markdown",
   "metadata": {},
   "source": [
    "Lets explore it"
   ]
  },
  {
   "cell_type": "code",
   "execution_count": 3,
   "metadata": {},
   "outputs": [
    {
     "data": {
      "text/html": [
       "<div>\n",
       "<table border=\"1\" class=\"dataframe\">\n",
       "  <thead>\n",
       "    <tr style=\"text-align: right;\">\n",
       "      <th></th>\n",
       "      <th>PassengerId</th>\n",
       "      <th>Survived</th>\n",
       "      <th>Pclass</th>\n",
       "      <th>Name</th>\n",
       "      <th>Sex</th>\n",
       "      <th>Age</th>\n",
       "      <th>SibSp</th>\n",
       "      <th>Parch</th>\n",
       "      <th>Ticket</th>\n",
       "      <th>Fare</th>\n",
       "      <th>Cabin</th>\n",
       "      <th>Embarked</th>\n",
       "    </tr>\n",
       "  </thead>\n",
       "  <tbody>\n",
       "    <tr>\n",
       "      <th>0</th>\n",
       "      <td>1</td>\n",
       "      <td>0</td>\n",
       "      <td>3</td>\n",
       "      <td>Braund, Mr. Owen Harris</td>\n",
       "      <td>male</td>\n",
       "      <td>22.0</td>\n",
       "      <td>1</td>\n",
       "      <td>0</td>\n",
       "      <td>A/5 21171</td>\n",
       "      <td>7.2500</td>\n",
       "      <td>NaN</td>\n",
       "      <td>S</td>\n",
       "    </tr>\n",
       "    <tr>\n",
       "      <th>1</th>\n",
       "      <td>2</td>\n",
       "      <td>1</td>\n",
       "      <td>1</td>\n",
       "      <td>Cumings, Mrs. John Bradley (Florence Briggs Th...</td>\n",
       "      <td>female</td>\n",
       "      <td>38.0</td>\n",
       "      <td>1</td>\n",
       "      <td>0</td>\n",
       "      <td>PC 17599</td>\n",
       "      <td>71.2833</td>\n",
       "      <td>C85</td>\n",
       "      <td>C</td>\n",
       "    </tr>\n",
       "    <tr>\n",
       "      <th>2</th>\n",
       "      <td>3</td>\n",
       "      <td>1</td>\n",
       "      <td>3</td>\n",
       "      <td>Heikkinen, Miss. Laina</td>\n",
       "      <td>female</td>\n",
       "      <td>26.0</td>\n",
       "      <td>0</td>\n",
       "      <td>0</td>\n",
       "      <td>STON/O2. 3101282</td>\n",
       "      <td>7.9250</td>\n",
       "      <td>NaN</td>\n",
       "      <td>S</td>\n",
       "    </tr>\n",
       "    <tr>\n",
       "      <th>3</th>\n",
       "      <td>4</td>\n",
       "      <td>1</td>\n",
       "      <td>1</td>\n",
       "      <td>Futrelle, Mrs. Jacques Heath (Lily May Peel)</td>\n",
       "      <td>female</td>\n",
       "      <td>35.0</td>\n",
       "      <td>1</td>\n",
       "      <td>0</td>\n",
       "      <td>113803</td>\n",
       "      <td>53.1000</td>\n",
       "      <td>C123</td>\n",
       "      <td>S</td>\n",
       "    </tr>\n",
       "    <tr>\n",
       "      <th>4</th>\n",
       "      <td>5</td>\n",
       "      <td>0</td>\n",
       "      <td>3</td>\n",
       "      <td>Allen, Mr. William Henry</td>\n",
       "      <td>male</td>\n",
       "      <td>35.0</td>\n",
       "      <td>0</td>\n",
       "      <td>0</td>\n",
       "      <td>373450</td>\n",
       "      <td>8.0500</td>\n",
       "      <td>NaN</td>\n",
       "      <td>S</td>\n",
       "    </tr>\n",
       "  </tbody>\n",
       "</table>\n",
       "</div>"
      ],
      "text/plain": [
       "   PassengerId  Survived  Pclass  \\\n",
       "0            1         0       3   \n",
       "1            2         1       1   \n",
       "2            3         1       3   \n",
       "3            4         1       1   \n",
       "4            5         0       3   \n",
       "\n",
       "                                                Name     Sex   Age  SibSp  \\\n",
       "0                            Braund, Mr. Owen Harris    male  22.0      1   \n",
       "1  Cumings, Mrs. John Bradley (Florence Briggs Th...  female  38.0      1   \n",
       "2                             Heikkinen, Miss. Laina  female  26.0      0   \n",
       "3       Futrelle, Mrs. Jacques Heath (Lily May Peel)  female  35.0      1   \n",
       "4                           Allen, Mr. William Henry    male  35.0      0   \n",
       "\n",
       "   Parch            Ticket     Fare Cabin Embarked  \n",
       "0      0         A/5 21171   7.2500   NaN        S  \n",
       "1      0          PC 17599  71.2833   C85        C  \n",
       "2      0  STON/O2. 3101282   7.9250   NaN        S  \n",
       "3      0            113803  53.1000  C123        S  \n",
       "4      0            373450   8.0500   NaN        S  "
      ]
     },
     "execution_count": 3,
     "metadata": {},
     "output_type": "execute_result"
    }
   ],
   "source": [
    "training.head()"
   ]
  },
  {
   "cell_type": "code",
   "execution_count": 4,
   "metadata": {},
   "outputs": [
    {
     "name": "stdout",
     "output_type": "stream",
     "text": [
      "<class 'pandas.core.frame.DataFrame'>\n",
      "RangeIndex: 891 entries, 0 to 890\n",
      "Data columns (total 12 columns):\n",
      "PassengerId    891 non-null int64\n",
      "Survived       891 non-null int64\n",
      "Pclass         891 non-null int64\n",
      "Name           891 non-null object\n",
      "Sex            891 non-null object\n",
      "Age            714 non-null float64\n",
      "SibSp          891 non-null int64\n",
      "Parch          891 non-null int64\n",
      "Ticket         891 non-null object\n",
      "Fare           891 non-null float64\n",
      "Cabin          204 non-null object\n",
      "Embarked       889 non-null object\n",
      "dtypes: float64(2), int64(5), object(5)\n",
      "memory usage: 83.6+ KB\n"
     ]
    }
   ],
   "source": [
    "training.info()"
   ]
  },
  {
   "cell_type": "markdown",
   "metadata": {},
   "source": [
    "## Preprocessing the training dataset ##"
   ]
  },
  {
   "cell_type": "code",
   "execution_count": 5,
   "metadata": {},
   "outputs": [
    {
     "name": "stdout",
     "output_type": "stream",
     "text": [
      "29.69911764705882\n"
     ]
    }
   ],
   "source": [
    "training_age_mean = training['Age'].mean()\n",
    "print(training_age_mean)"
   ]
  },
  {
   "cell_type": "code",
   "execution_count": 6,
   "metadata": {},
   "outputs": [
    {
     "name": "stdout",
     "output_type": "stream",
     "text": [
      "S    644\n",
      "C    168\n",
      "Q     77\n",
      "Name: Embarked, dtype: int64\n",
      "Most frequent embarked:  S\n"
     ]
    }
   ],
   "source": [
    "training_embarked_counts = training['Embarked'].value_counts()\n",
    "print(training_embarked_counts)\n",
    "print(\"Most frequent embarked: \", training_embarked_counts.idxmax())"
   ]
  },
  {
   "cell_type": "markdown",
   "metadata": {},
   "source": [
    "As we can see the dataset contains columns that dont give us any useful information for classify supervivence such as Name, Cabin, PassangerId, and Ticket so we remove them.\n",
    "Also the dataset contains bunch of null values in columns Age and Embarked. Either for Age and Embarked, one option could be remove those rows, and the other option is filling with invented data based on some statistics/interpolation over that columns. Since there are a lot of nulls in Age column if we remove that rows we are going to loose a lot of data for trainining (19% of training data). Because of that, I choose the second option filling null columns with the mean of non-null values for columns Age as we calculated before (29 years). For Embarked column becouse this is a categorical one so we replace the null values with the most frecuent label as we calculated before (the 'S' label) with `value_counts`."
   ]
  },
  {
   "cell_type": "code",
   "execution_count": 7,
   "metadata": {
    "collapsed": true
   },
   "outputs": [],
   "source": [
    "del training['Name']\n",
    "del training['Cabin']\n",
    "del training['PassengerId']\n",
    "del training['Ticket']\n",
    "training['Age'] = training['Age'].fillna(training_age_mean)\n",
    "training['Embarked'] = training['Embarked'].fillna(training_embarked_counts.idxmax())"
   ]
  },
  {
   "cell_type": "code",
   "execution_count": 8,
   "metadata": {},
   "outputs": [
    {
     "name": "stdout",
     "output_type": "stream",
     "text": [
      "<class 'pandas.core.frame.DataFrame'>\n",
      "RangeIndex: 891 entries, 0 to 890\n",
      "Data columns (total 8 columns):\n",
      "Survived    891 non-null int64\n",
      "Pclass      891 non-null int64\n",
      "Sex         891 non-null object\n",
      "Age         891 non-null float64\n",
      "SibSp       891 non-null int64\n",
      "Parch       891 non-null int64\n",
      "Fare        891 non-null float64\n",
      "Embarked    891 non-null object\n",
      "dtypes: float64(2), int64(4), object(2)\n",
      "memory usage: 55.8+ KB\n"
     ]
    }
   ],
   "source": [
    "training.info()"
   ]
  },
  {
   "cell_type": "markdown",
   "metadata": {},
   "source": [
    "### Extraction of feature vectors ###"
   ]
  },
  {
   "cell_type": "markdown",
   "metadata": {},
   "source": [
    "For training the classifiers first we have to turn categorical columns into numerical features. For this we are going to use one-hot vector scheme that maps each category with a vector with one in some index and zero in the rest.\n",
    "For example:\n",
    "\n",
    "'S' -> (1,0,0).\n",
    "'C' -> (0,1,0).\n",
    "'Q' -> (0,0,1).\n",
    "\n",
    "This task is acomplished with LabelBinarizer from scikit-learn. For LabelBinarizer to build automatically that mapping we need to fit their corresponding columns of the training data. We keep this transformations becouse for the test dataset we want to use the same scheme."
   ]
  },
  {
   "cell_type": "code",
   "execution_count": 9,
   "metadata": {
    "collapsed": true
   },
   "outputs": [],
   "source": [
    "pclass_transf   = LabelBinarizer().fit(training['Pclass'])\n",
    "sex_tranf       = LabelBinarizer().fit(training['Sex'])\n",
    "sibsp_transf    = LabelBinarizer().fit(training['SibSp'])\n",
    "parch_transf    = LabelBinarizer().fit(training['Parch'])\n",
    "embarked_transf = LabelBinarizer().fit(training['Embarked'])"
   ]
  },
  {
   "cell_type": "markdown",
   "metadata": {},
   "source": [
    "Finally we transform each feature to get this vectors, and concatenate them in one big vector feature vector. Doing this for every row we finish with a matrix of feature vectors were each row represents a feature. Becouse we have to do the same thing with the test database and using the same binarizer functions already fitted (pclass_transform, sex_transf, etc) its useful to turning this procedure into a function so we can reuse it for the test dataset."
   ]
  },
  {
   "cell_type": "code",
   "execution_count": 10,
   "metadata": {
    "collapsed": true
   },
   "outputs": [],
   "source": [
    "def get_feature_vectors(df):\n",
    "    age_vec = np.array(df['Age']).reshape(-1, 1)\n",
    "    fare_vec = np.array(df['Fare']).reshape(-1,1)\n",
    "    pclass_vec = pclass_transf.transform(df['Pclass'])\n",
    "    sex_vec = sex_tranf.transform(df['Sex'])\n",
    "    sibsp_vec = sibsp_transf.transform(df['SibSp'])\n",
    "    parch_vec = parch_transf.transform(df['Parch'])\n",
    "    embarked_vec = embarked_transf.transform(df['Embarked'])\n",
    "    \n",
    "    data_values = np.concatenate((age_vec,\n",
    "                                  fare_vec, \n",
    "                                  sex_vec,\n",
    "                                  sibsp_vec,\n",
    "                                  parch_vec,\n",
    "                                  embarked_vec,\n",
    "                                  pclass_vec),\n",
    "                                 axis=1)\n",
    "    return data_values\n",
    "\n",
    "training_features = get_feature_vectors(training)"
   ]
  },
  {
   "cell_type": "markdown",
   "metadata": {},
   "source": [
    "Because the feature vectors hasn't a nice distribution of values to make easier to the models to train we want to normalize this data over the entire set of examples shifting the mean to zero and variance to one. This is done by the StandardScaler class. So we fit the scaler to the data and then transformed it with fit_transform"
   ]
  },
  {
   "cell_type": "code",
   "execution_count": 11,
   "metadata": {
    "collapsed": true
   },
   "outputs": [],
   "source": [
    "normalizer = StandardScaler()\n",
    "training_features = normalizer.fit_transform(training_features)"
   ]
  },
  {
   "cell_type": "markdown",
   "metadata": {},
   "source": [
    "### Classifier models ###"
   ]
  },
  {
   "cell_type": "markdown",
   "metadata": {},
   "source": [
    "Now lets compite some machine learning models"
   ]
  },
  {
   "cell_type": "code",
   "execution_count": null,
   "metadata": {
    "collapsed": true
   },
   "outputs": [],
   "source": []
  },
  {
   "cell_type": "code",
   "execution_count": 12,
   "metadata": {
    "collapsed": true
   },
   "outputs": [],
   "source": [
    "clfs = OrderedDict(\n",
    "       {'2-NN' : KNeighborsClassifier(n_neighbors=2),\n",
    "        '5-NN' : KNeighborsClassifier(n_neighbors=5),\n",
    "        '10-NN' : KNeighborsClassifier(n_neighbors=10),\n",
    "        'DecisionTree' : tree.DecisionTreeClassifier(),\n",
    "        'RandomForest (20 estimators)' : RandomForestClassifier(n_estimators=20),\n",
    "        'RandomForest (50 estimators)' : RandomForestClassifier(n_estimators=50),\n",
    "        'Perceptron simple' : MLPClassifier(solver='sgd', activation='relu', hidden_layer_sizes=(), max_iter=3000),\n",
    "        '2-Layers MLP (100 H)' : MLPClassifier(solver='sgd', activation='relu', hidden_layer_sizes=(100), max_iter=3000),\n",
    "        '3-Layers MLP (200 H -> 100 H)' : MLPClassifier(solver='sgd', activation='relu', hidden_layer_sizes=(200, 100), max_iter=3000),\n",
    "        'SVM' : SVC(),\n",
    "       })"
   ]
  },
  {
   "cell_type": "markdown",
   "metadata": {},
   "source": [
    "### Training the classifiers ###"
   ]
  },
  {
   "cell_type": "code",
   "execution_count": 13,
   "metadata": {
    "collapsed": true
   },
   "outputs": [],
   "source": [
    "training_accuracies = []\n",
    "test_accuracies = []\n",
    "\n",
    "for name, clf in clfs.items():\n",
    "    clf.fit(training_features, training_survived)\n",
    "    accuracy_training = accuracy_score(clf.predict(training_features), training_survived) * 100\n",
    "    training_accuracies.append(accuracy_training)"
   ]
  },
  {
   "cell_type": "code",
   "execution_count": 14,
   "metadata": {
    "collapsed": true
   },
   "outputs": [],
   "source": [
    "test = pd.read_csv('data/test.csv')\n",
    "test_survived = pd.read_csv('data/gender_submission.csv')['Survived']"
   ]
  },
  {
   "cell_type": "code",
   "execution_count": 15,
   "metadata": {},
   "outputs": [
    {
     "data": {
      "text/html": [
       "<div>\n",
       "<table border=\"1\" class=\"dataframe\">\n",
       "  <thead>\n",
       "    <tr style=\"text-align: right;\">\n",
       "      <th></th>\n",
       "      <th>PassengerId</th>\n",
       "      <th>Pclass</th>\n",
       "      <th>Name</th>\n",
       "      <th>Sex</th>\n",
       "      <th>Age</th>\n",
       "      <th>SibSp</th>\n",
       "      <th>Parch</th>\n",
       "      <th>Ticket</th>\n",
       "      <th>Fare</th>\n",
       "      <th>Cabin</th>\n",
       "      <th>Embarked</th>\n",
       "    </tr>\n",
       "  </thead>\n",
       "  <tbody>\n",
       "    <tr>\n",
       "      <th>0</th>\n",
       "      <td>892</td>\n",
       "      <td>3</td>\n",
       "      <td>Kelly, Mr. James</td>\n",
       "      <td>male</td>\n",
       "      <td>34.5</td>\n",
       "      <td>0</td>\n",
       "      <td>0</td>\n",
       "      <td>330911</td>\n",
       "      <td>7.8292</td>\n",
       "      <td>NaN</td>\n",
       "      <td>Q</td>\n",
       "    </tr>\n",
       "    <tr>\n",
       "      <th>1</th>\n",
       "      <td>893</td>\n",
       "      <td>3</td>\n",
       "      <td>Wilkes, Mrs. James (Ellen Needs)</td>\n",
       "      <td>female</td>\n",
       "      <td>47.0</td>\n",
       "      <td>1</td>\n",
       "      <td>0</td>\n",
       "      <td>363272</td>\n",
       "      <td>7.0000</td>\n",
       "      <td>NaN</td>\n",
       "      <td>S</td>\n",
       "    </tr>\n",
       "    <tr>\n",
       "      <th>2</th>\n",
       "      <td>894</td>\n",
       "      <td>2</td>\n",
       "      <td>Myles, Mr. Thomas Francis</td>\n",
       "      <td>male</td>\n",
       "      <td>62.0</td>\n",
       "      <td>0</td>\n",
       "      <td>0</td>\n",
       "      <td>240276</td>\n",
       "      <td>9.6875</td>\n",
       "      <td>NaN</td>\n",
       "      <td>Q</td>\n",
       "    </tr>\n",
       "    <tr>\n",
       "      <th>3</th>\n",
       "      <td>895</td>\n",
       "      <td>3</td>\n",
       "      <td>Wirz, Mr. Albert</td>\n",
       "      <td>male</td>\n",
       "      <td>27.0</td>\n",
       "      <td>0</td>\n",
       "      <td>0</td>\n",
       "      <td>315154</td>\n",
       "      <td>8.6625</td>\n",
       "      <td>NaN</td>\n",
       "      <td>S</td>\n",
       "    </tr>\n",
       "    <tr>\n",
       "      <th>4</th>\n",
       "      <td>896</td>\n",
       "      <td>3</td>\n",
       "      <td>Hirvonen, Mrs. Alexander (Helga E Lindqvist)</td>\n",
       "      <td>female</td>\n",
       "      <td>22.0</td>\n",
       "      <td>1</td>\n",
       "      <td>1</td>\n",
       "      <td>3101298</td>\n",
       "      <td>12.2875</td>\n",
       "      <td>NaN</td>\n",
       "      <td>S</td>\n",
       "    </tr>\n",
       "  </tbody>\n",
       "</table>\n",
       "</div>"
      ],
      "text/plain": [
       "   PassengerId  Pclass                                          Name     Sex  \\\n",
       "0          892       3                              Kelly, Mr. James    male   \n",
       "1          893       3              Wilkes, Mrs. James (Ellen Needs)  female   \n",
       "2          894       2                     Myles, Mr. Thomas Francis    male   \n",
       "3          895       3                              Wirz, Mr. Albert    male   \n",
       "4          896       3  Hirvonen, Mrs. Alexander (Helga E Lindqvist)  female   \n",
       "\n",
       "    Age  SibSp  Parch   Ticket     Fare Cabin Embarked  \n",
       "0  34.5      0      0   330911   7.8292   NaN        Q  \n",
       "1  47.0      1      0   363272   7.0000   NaN        S  \n",
       "2  62.0      0      0   240276   9.6875   NaN        Q  \n",
       "3  27.0      0      0   315154   8.6625   NaN        S  \n",
       "4  22.0      1      1  3101298  12.2875   NaN        S  "
      ]
     },
     "execution_count": 15,
     "metadata": {},
     "output_type": "execute_result"
    }
   ],
   "source": [
    "test.head()"
   ]
  },
  {
   "cell_type": "code",
   "execution_count": 16,
   "metadata": {},
   "outputs": [
    {
     "name": "stdout",
     "output_type": "stream",
     "text": [
      "<class 'pandas.core.frame.DataFrame'>\n",
      "RangeIndex: 418 entries, 0 to 417\n",
      "Data columns (total 11 columns):\n",
      "PassengerId    418 non-null int64\n",
      "Pclass         418 non-null int64\n",
      "Name           418 non-null object\n",
      "Sex            418 non-null object\n",
      "Age            332 non-null float64\n",
      "SibSp          418 non-null int64\n",
      "Parch          418 non-null int64\n",
      "Ticket         418 non-null object\n",
      "Fare           417 non-null float64\n",
      "Cabin          91 non-null object\n",
      "Embarked       418 non-null object\n",
      "dtypes: float64(2), int64(4), object(5)\n",
      "memory usage: 36.0+ KB\n"
     ]
    }
   ],
   "source": [
    "test.info()"
   ]
  },
  {
   "cell_type": "code",
   "execution_count": 17,
   "metadata": {
    "collapsed": true
   },
   "outputs": [],
   "source": [
    "del test['Name']\n",
    "del test['Cabin']\n",
    "del test['PassengerId']\n",
    "del test['Ticket']\n",
    "test['Age'] = test['Age'].fillna(test['Age'].mean())\n",
    "test['Fare'] = test['Fare'].fillna(test['Fare'].mean())"
   ]
  },
  {
   "cell_type": "code",
   "execution_count": 18,
   "metadata": {},
   "outputs": [
    {
     "name": "stdout",
     "output_type": "stream",
     "text": [
      "<class 'pandas.core.frame.DataFrame'>\n",
      "RangeIndex: 418 entries, 0 to 417\n",
      "Data columns (total 7 columns):\n",
      "Pclass      418 non-null int64\n",
      "Sex         418 non-null object\n",
      "Age         418 non-null float64\n",
      "SibSp       418 non-null int64\n",
      "Parch       418 non-null int64\n",
      "Fare        418 non-null float64\n",
      "Embarked    418 non-null object\n",
      "dtypes: float64(2), int64(3), object(2)\n",
      "memory usage: 22.9+ KB\n"
     ]
    }
   ],
   "source": [
    "test.info()"
   ]
  },
  {
   "cell_type": "code",
   "execution_count": 19,
   "metadata": {
    "collapsed": true
   },
   "outputs": [],
   "source": [
    "test_features = normalizer.transform(get_feature_vectors(test))"
   ]
  },
  {
   "cell_type": "code",
   "execution_count": 20,
   "metadata": {
    "collapsed": true
   },
   "outputs": [],
   "source": [
    "for name, clf in clfs.items():\n",
    "    accuracy_test = accuracy_score(clf.predict(test_features), test_survived) * 100\n",
    "    test_accuracies.append(accuracy_test)"
   ]
  },
  {
   "cell_type": "markdown",
   "metadata": {},
   "source": [
    "## Score metrics ##"
   ]
  },
  {
   "cell_type": "markdown",
   "metadata": {},
   "source": [
    "Lets load test dataset first"
   ]
  },
  {
   "cell_type": "code",
   "execution_count": 21,
   "metadata": {},
   "outputs": [
    {
     "data": {
      "image/png": "[encoded data removed]",
      "text/plain": [
       "<matplotlib.figure.Figure at 0x7f661c6946d8>"
      ]
     },
     "metadata": {},
     "output_type": "display_data"
    }
   ],
   "source": [
    "import seaborn as sns\n",
    "import matplotlib.pyplot as plt\n",
    "sns.set(style=\"whitegrid\")\n",
    "\n",
    "f, ax = plt.subplots()\n",
    "\n",
    "accuracies = pd.DataFrame({'name' : list(clfs.keys()) * 2, \n",
    "                           'accuracy' : training_accuracies + test_accuracies, \n",
    "                           'mode' : ['Train'] * len(training_accuracies) + ['Test'] * len(test_accuracies)})\n",
    "\n",
    "sns.barplot(x=\"accuracy\", y=\"name\", hue='mode', data=accuracies)\n",
    "plt.legend(bbox_to_anchor=(1.05, 1), loc=2, borderaxespad=0.)\n",
    "ax.set(xlim=(0, 100), ylabel=\"\",\n",
    "       xlabel=\"% Accuracy\")\n",
    "plt.show()"
   ]
  },
  {
   "cell_type": "code",
   "execution_count": 29,
   "metadata": {},
   "outputs": [
    {
     "data": {
      "text/html": [
       "<div>\n",
       "<table border=\"1\" class=\"dataframe\">\n",
       "  <thead>\n",
       "    <tr style=\"text-align: right;\">\n",
       "      <th></th>\n",
       "      <th>% de Aciertos</th>\n",
       "      <th>% de Verdaderos Positivos</th>\n",
       "      <th>% de Verdaderos Negativos</th>\n",
       "      <th>% de Fallos</th>\n",
       "      <th>% de Falsos Negativos</th>\n",
       "      <th>% de Falsos Positivos</th>\n",
       "      <th>Precision</th>\n",
       "      <th>Recall</th>\n",
       "    </tr>\n",
       "  </thead>\n",
       "  <tbody>\n",
       "    <tr>\n",
       "      <th>2-Layers MLP (100 H)</th>\n",
       "      <td>94.019139</td>\n",
       "      <td>33.253589</td>\n",
       "      <td>60.765550</td>\n",
       "      <td>5.980861</td>\n",
       "      <td>2.870813</td>\n",
       "      <td>2.870813</td>\n",
       "      <td>0.914474</td>\n",
       "      <td>0.920530</td>\n",
       "    </tr>\n",
       "    <tr>\n",
       "      <th>SVM</th>\n",
       "      <td>93.062201</td>\n",
       "      <td>32.775120</td>\n",
       "      <td>60.287081</td>\n",
       "      <td>6.937799</td>\n",
       "      <td>3.349282</td>\n",
       "      <td>3.349282</td>\n",
       "      <td>0.901316</td>\n",
       "      <td>0.907285</td>\n",
       "    </tr>\n",
       "    <tr>\n",
       "      <th>Perceptron simple</th>\n",
       "      <td>92.822967</td>\n",
       "      <td>33.492823</td>\n",
       "      <td>59.330144</td>\n",
       "      <td>7.177033</td>\n",
       "      <td>4.306220</td>\n",
       "      <td>4.306220</td>\n",
       "      <td>0.921053</td>\n",
       "      <td>0.886076</td>\n",
       "    </tr>\n",
       "    <tr>\n",
       "      <th>3-Layers MLP (200 H -&gt; 100 H)</th>\n",
       "      <td>90.191388</td>\n",
       "      <td>31.339713</td>\n",
       "      <td>58.851675</td>\n",
       "      <td>9.808612</td>\n",
       "      <td>4.784689</td>\n",
       "      <td>4.784689</td>\n",
       "      <td>0.861842</td>\n",
       "      <td>0.867550</td>\n",
       "    </tr>\n",
       "    <tr>\n",
       "      <th>10-NN</th>\n",
       "      <td>83.253589</td>\n",
       "      <td>26.794258</td>\n",
       "      <td>56.459330</td>\n",
       "      <td>16.746411</td>\n",
       "      <td>7.177033</td>\n",
       "      <td>7.177033</td>\n",
       "      <td>0.736842</td>\n",
       "      <td>0.788732</td>\n",
       "    </tr>\n",
       "    <tr>\n",
       "      <th>5-NN</th>\n",
       "      <td>80.861244</td>\n",
       "      <td>27.751196</td>\n",
       "      <td>53.110048</td>\n",
       "      <td>19.138756</td>\n",
       "      <td>10.526316</td>\n",
       "      <td>10.526316</td>\n",
       "      <td>0.763158</td>\n",
       "      <td>0.725000</td>\n",
       "    </tr>\n",
       "    <tr>\n",
       "      <th>RandomForest (50 estimators)</th>\n",
       "      <td>79.186603</td>\n",
       "      <td>25.119617</td>\n",
       "      <td>54.066986</td>\n",
       "      <td>20.813397</td>\n",
       "      <td>9.569378</td>\n",
       "      <td>9.569378</td>\n",
       "      <td>0.690789</td>\n",
       "      <td>0.724138</td>\n",
       "    </tr>\n",
       "    <tr>\n",
       "      <th>RandomForest (20 estimators)</th>\n",
       "      <td>78.947368</td>\n",
       "      <td>24.162679</td>\n",
       "      <td>54.784689</td>\n",
       "      <td>21.052632</td>\n",
       "      <td>8.851675</td>\n",
       "      <td>8.851675</td>\n",
       "      <td>0.664474</td>\n",
       "      <td>0.731884</td>\n",
       "    </tr>\n",
       "    <tr>\n",
       "      <th>2-NN</th>\n",
       "      <td>78.468900</td>\n",
       "      <td>19.377990</td>\n",
       "      <td>59.090909</td>\n",
       "      <td>21.531100</td>\n",
       "      <td>4.545455</td>\n",
       "      <td>4.545455</td>\n",
       "      <td>0.532895</td>\n",
       "      <td>0.810000</td>\n",
       "    </tr>\n",
       "    <tr>\n",
       "      <th>DecisionTree</th>\n",
       "      <td>76.794258</td>\n",
       "      <td>24.162679</td>\n",
       "      <td>52.631579</td>\n",
       "      <td>23.205742</td>\n",
       "      <td>11.004785</td>\n",
       "      <td>11.004785</td>\n",
       "      <td>0.664474</td>\n",
       "      <td>0.687075</td>\n",
       "    </tr>\n",
       "  </tbody>\n",
       "</table>\n",
       "</div>"
      ],
      "text/plain": [
       "                               % de Aciertos  % de Verdaderos Positivos  \\\n",
       "2-Layers MLP (100 H)               94.019139                  33.253589   \n",
       "SVM                                93.062201                  32.775120   \n",
       "Perceptron simple                  92.822967                  33.492823   \n",
       "3-Layers MLP (200 H -> 100 H)      90.191388                  31.339713   \n",
       "10-NN                              83.253589                  26.794258   \n",
       "5-NN                               80.861244                  27.751196   \n",
       "RandomForest (50 estimators)       79.186603                  25.119617   \n",
       "RandomForest (20 estimators)       78.947368                  24.162679   \n",
       "2-NN                               78.468900                  19.377990   \n",
       "DecisionTree                       76.794258                  24.162679   \n",
       "\n",
       "                               % de Verdaderos Negativos  % de Fallos  \\\n",
       "2-Layers MLP (100 H)                           60.765550     5.980861   \n",
       "SVM                                            60.287081     6.937799   \n",
       "Perceptron simple                              59.330144     7.177033   \n",
       "3-Layers MLP (200 H -> 100 H)                  58.851675     9.808612   \n",
       "10-NN                                          56.459330    16.746411   \n",
       "5-NN                                           53.110048    19.138756   \n",
       "RandomForest (50 estimators)                   54.066986    20.813397   \n",
       "RandomForest (20 estimators)                   54.784689    21.052632   \n",
       "2-NN                                           59.090909    21.531100   \n",
       "DecisionTree                                   52.631579    23.205742   \n",
       "\n",
       "                               % de Falsos Negativos  % de Falsos Positivos  \\\n",
       "2-Layers MLP (100 H)                        2.870813               2.870813   \n",
       "SVM                                         3.349282               3.349282   \n",
       "Perceptron simple                           4.306220               4.306220   \n",
       "3-Layers MLP (200 H -> 100 H)               4.784689               4.784689   \n",
       "10-NN                                       7.177033               7.177033   \n",
       "5-NN                                       10.526316              10.526316   \n",
       "RandomForest (50 estimators)                9.569378               9.569378   \n",
       "RandomForest (20 estimators)                8.851675               8.851675   \n",
       "2-NN                                        4.545455               4.545455   \n",
       "DecisionTree                               11.004785              11.004785   \n",
       "\n",
       "                               Precision    Recall  \n",
       "2-Layers MLP (100 H)            0.914474  0.920530  \n",
       "SVM                             0.901316  0.907285  \n",
       "Perceptron simple               0.921053  0.886076  \n",
       "3-Layers MLP (200 H -> 100 H)   0.861842  0.867550  \n",
       "10-NN                           0.736842  0.788732  \n",
       "5-NN                            0.763158  0.725000  \n",
       "RandomForest (50 estimators)    0.690789  0.724138  \n",
       "RandomForest (20 estimators)    0.664474  0.731884  \n",
       "2-NN                            0.532895  0.810000  \n",
       "DecisionTree                    0.664474  0.687075  "
      ]
     },
     "execution_count": 29,
     "metadata": {},
     "output_type": "execute_result"
    }
   ],
   "source": [
    "table = OrderedDict()\n",
    "\n",
    "for name, clf in clfs.items():\n",
    "    tn, fp, fn, tp = confusion_matrix(clf.predict(test_features), test_survived).ravel()\n",
    "    n = len(test)\n",
    "    table[name] = {\n",
    "                   '% de Aciertos' : (tp+tn)/n * 100.0,\n",
    "                   '% de Verdaderos Positivos': tp/n * 100.0,\n",
    "                   '% de Verdaderos Negativos': tn/n * 100.0,\n",
    "                   '% de Fallos' : (fn+fp)/n * 100.0,\n",
    "                   '% de Falsos Negativos' : fn/n * 100.0,\n",
    "                   '% de Falsos Positivos' : fn/n * 100.0,\n",
    "                   'Precision' : tp/(tp+fp),\n",
    "                   'Recall' : tp/(tp+fn),\n",
    "                   }\n",
    "                  \n",
    "                     \n",
    "pd.DataFrame().from_dict(table, orient='index').sort_values(by=['% de Aciertos'], ascending=False)"
   ]
  },
  {
   "cell_type": "code",
   "execution_count": null,
   "metadata": {
    "collapsed": true
   },
   "outputs": [],
   "source": [
    "confusion_table_dataframe(clf)"
   ]
  },
  {
   "cell_type": "code",
   "execution_count": 23,
   "metadata": {
    "collapsed": true
   },
   "outputs": [],
   "source": [
    "best_classifiers = accuracies[accuracies['mode'] == 'Test'].sort_values(['accuracy'], ascending=False)[:4]['name']\n",
    "best_classifiers = {name : clfs[name] for name in best_classifiers}"
   ]
  },
  {
   "cell_type": "code",
   "execution_count": 24,
   "metadata": {},
   "outputs": [
    {
     "data": {
      "text/plain": [
       "{'2-Layers MLP (100 H)': MLPClassifier(activation='relu', alpha=0.0001, batch_size='auto', beta_1=0.9,\n",
       "        beta_2=0.999, early_stopping=False, epsilon=1e-08,\n",
       "        hidden_layer_sizes=100, learning_rate='constant',\n",
       "        learning_rate_init=0.001, max_iter=3000, momentum=0.9,\n",
       "        nesterovs_momentum=True, power_t=0.5, random_state=None,\n",
       "        shuffle=True, solver='sgd', tol=0.0001, validation_fraction=0.1,\n",
       "        verbose=False, warm_start=False),\n",
       " '3-Layers MLP (200 H -> 100 H)': MLPClassifier(activation='relu', alpha=0.0001, batch_size='auto', beta_1=0.9,\n",
       "        beta_2=0.999, early_stopping=False, epsilon=1e-08,\n",
       "        hidden_layer_sizes=(200, 100), learning_rate='constant',\n",
       "        learning_rate_init=0.001, max_iter=3000, momentum=0.9,\n",
       "        nesterovs_momentum=True, power_t=0.5, random_state=None,\n",
       "        shuffle=True, solver='sgd', tol=0.0001, validation_fraction=0.1,\n",
       "        verbose=False, warm_start=False),\n",
       " 'Perceptron simple': MLPClassifier(activation='relu', alpha=0.0001, batch_size='auto', beta_1=0.9,\n",
       "        beta_2=0.999, early_stopping=False, epsilon=1e-08,\n",
       "        hidden_layer_sizes=(), learning_rate='constant',\n",
       "        learning_rate_init=0.001, max_iter=3000, momentum=0.9,\n",
       "        nesterovs_momentum=True, power_t=0.5, random_state=None,\n",
       "        shuffle=True, solver='sgd', tol=0.0001, validation_fraction=0.1,\n",
       "        verbose=False, warm_start=False),\n",
       " 'SVM': SVC(C=1.0, cache_size=200, class_weight=None, coef0=0.0,\n",
       "   decision_function_shape=None, degree=3, gamma='auto', kernel='rbf',\n",
       "   max_iter=-1, probability=False, random_state=None, shrinking=True,\n",
       "   tol=0.001, verbose=False)}"
      ]
     },
     "execution_count": 24,
     "metadata": {},
     "output_type": "execute_result"
    }
   ],
   "source": [
    "best_classifiers"
   ]
  },
  {
   "cell_type": "code",
   "execution_count": 25,
   "metadata": {
    "collapsed": true
   },
   "outputs": [],
   "source": [
    "predictions = OrderedDict({model_name : clf.predict(test_features) for model_name, clf in clfs.items()})"
   ]
  },
  {
   "cell_type": "code",
   "execution_count": 33,
   "metadata": {
    "collapsed": true
   },
   "outputs": [],
   "source": [
    "from collections import Counter\n",
    "\n",
    "best_predictions = []\n",
    "for test_feature in test_features:\n",
    "    clfs_predictions = Counter()\n",
    "    for clf in best_classifiers.values():\n",
    "        clfs_predictions[clf.predict(test_feature.reshape(1,-1))[0]] += 1\n",
    "    best_predictions.append(clfs_predictions.most_common()[0][0])"
   ]
  },
  {
   "cell_type": "code",
   "execution_count": 34,
   "metadata": {},
   "outputs": [
    {
     "data": {
      "text/plain": [
       "0.9425837320574163"
      ]
     },
     "execution_count": 34,
     "metadata": {},
     "output_type": "execute_result"
    }
   ],
   "source": [
    "accuracy_score(np.array(best_predictions), test_survived)"
   ]
  },
  {
   "cell_type": "code",
   "execution_count": 41,
   "metadata": {},
   "outputs": [
    {
     "data": {
      "text/html": [
       "<div>\n",
       "<table border=\"1\" class=\"dataframe\">\n",
       "  <thead>\n",
       "    <tr style=\"text-align: right;\">\n",
       "      <th></th>\n",
       "      <th>% de Aciertos</th>\n",
       "      <th>% de Verdaderos Positivos</th>\n",
       "      <th>% de Verdaderos Negativos</th>\n",
       "      <th>% de Fallos</th>\n",
       "      <th>% de Falsos Negativos</th>\n",
       "      <th>% de Falsos Positivos</th>\n",
       "      <th>Precision</th>\n",
       "      <th>Recall</th>\n",
       "    </tr>\n",
       "  </thead>\n",
       "  <tbody>\n",
       "    <tr>\n",
       "      <th>Baggin</th>\n",
       "      <td>94.258373</td>\n",
       "      <td>33.492823</td>\n",
       "      <td>60.765550</td>\n",
       "      <td>5.741627</td>\n",
       "      <td>2.870813</td>\n",
       "      <td>2.870813</td>\n",
       "      <td>0.921053</td>\n",
       "      <td>0.921053</td>\n",
       "    </tr>\n",
       "    <tr>\n",
       "      <th>2-Layers MLP (100 H)</th>\n",
       "      <td>94.019139</td>\n",
       "      <td>33.253589</td>\n",
       "      <td>60.765550</td>\n",
       "      <td>5.980861</td>\n",
       "      <td>2.870813</td>\n",
       "      <td>2.870813</td>\n",
       "      <td>0.914474</td>\n",
       "      <td>0.920530</td>\n",
       "    </tr>\n",
       "    <tr>\n",
       "      <th>SVM</th>\n",
       "      <td>93.062201</td>\n",
       "      <td>32.775120</td>\n",
       "      <td>60.287081</td>\n",
       "      <td>6.937799</td>\n",
       "      <td>3.349282</td>\n",
       "      <td>3.349282</td>\n",
       "      <td>0.901316</td>\n",
       "      <td>0.907285</td>\n",
       "    </tr>\n",
       "    <tr>\n",
       "      <th>Perceptron simple</th>\n",
       "      <td>92.822967</td>\n",
       "      <td>33.492823</td>\n",
       "      <td>59.330144</td>\n",
       "      <td>7.177033</td>\n",
       "      <td>4.306220</td>\n",
       "      <td>4.306220</td>\n",
       "      <td>0.921053</td>\n",
       "      <td>0.886076</td>\n",
       "    </tr>\n",
       "    <tr>\n",
       "      <th>3-Layers MLP (200 H -&gt; 100 H)</th>\n",
       "      <td>90.191388</td>\n",
       "      <td>31.339713</td>\n",
       "      <td>58.851675</td>\n",
       "      <td>9.808612</td>\n",
       "      <td>4.784689</td>\n",
       "      <td>4.784689</td>\n",
       "      <td>0.861842</td>\n",
       "      <td>0.867550</td>\n",
       "    </tr>\n",
       "    <tr>\n",
       "      <th>10-NN</th>\n",
       "      <td>83.253589</td>\n",
       "      <td>26.794258</td>\n",
       "      <td>56.459330</td>\n",
       "      <td>16.746411</td>\n",
       "      <td>7.177033</td>\n",
       "      <td>7.177033</td>\n",
       "      <td>0.736842</td>\n",
       "      <td>0.788732</td>\n",
       "    </tr>\n",
       "    <tr>\n",
       "      <th>5-NN</th>\n",
       "      <td>80.861244</td>\n",
       "      <td>27.751196</td>\n",
       "      <td>53.110048</td>\n",
       "      <td>19.138756</td>\n",
       "      <td>10.526316</td>\n",
       "      <td>10.526316</td>\n",
       "      <td>0.763158</td>\n",
       "      <td>0.725000</td>\n",
       "    </tr>\n",
       "    <tr>\n",
       "      <th>RandomForest (50 estimators)</th>\n",
       "      <td>79.186603</td>\n",
       "      <td>25.119617</td>\n",
       "      <td>54.066986</td>\n",
       "      <td>20.813397</td>\n",
       "      <td>9.569378</td>\n",
       "      <td>9.569378</td>\n",
       "      <td>0.690789</td>\n",
       "      <td>0.724138</td>\n",
       "    </tr>\n",
       "    <tr>\n",
       "      <th>RandomForest (20 estimators)</th>\n",
       "      <td>78.947368</td>\n",
       "      <td>24.162679</td>\n",
       "      <td>54.784689</td>\n",
       "      <td>21.052632</td>\n",
       "      <td>8.851675</td>\n",
       "      <td>8.851675</td>\n",
       "      <td>0.664474</td>\n",
       "      <td>0.731884</td>\n",
       "    </tr>\n",
       "    <tr>\n",
       "      <th>2-NN</th>\n",
       "      <td>78.468900</td>\n",
       "      <td>19.377990</td>\n",
       "      <td>59.090909</td>\n",
       "      <td>21.531100</td>\n",
       "      <td>4.545455</td>\n",
       "      <td>4.545455</td>\n",
       "      <td>0.532895</td>\n",
       "      <td>0.810000</td>\n",
       "    </tr>\n",
       "    <tr>\n",
       "      <th>DecisionTree</th>\n",
       "      <td>76.794258</td>\n",
       "      <td>24.162679</td>\n",
       "      <td>52.631579</td>\n",
       "      <td>23.205742</td>\n",
       "      <td>11.004785</td>\n",
       "      <td>11.004785</td>\n",
       "      <td>0.664474</td>\n",
       "      <td>0.687075</td>\n",
       "    </tr>\n",
       "  </tbody>\n",
       "</table>\n",
       "</div>"
      ],
      "text/plain": [
       "                               % de Aciertos  % de Verdaderos Positivos  \\\n",
       "Baggin                             94.258373                  33.492823   \n",
       "2-Layers MLP (100 H)               94.019139                  33.253589   \n",
       "SVM                                93.062201                  32.775120   \n",
       "Perceptron simple                  92.822967                  33.492823   \n",
       "3-Layers MLP (200 H -> 100 H)      90.191388                  31.339713   \n",
       "10-NN                              83.253589                  26.794258   \n",
       "5-NN                               80.861244                  27.751196   \n",
       "RandomForest (50 estimators)       79.186603                  25.119617   \n",
       "RandomForest (20 estimators)       78.947368                  24.162679   \n",
       "2-NN                               78.468900                  19.377990   \n",
       "DecisionTree                       76.794258                  24.162679   \n",
       "\n",
       "                               % de Verdaderos Negativos  % de Fallos  \\\n",
       "Baggin                                         60.765550     5.741627   \n",
       "2-Layers MLP (100 H)                           60.765550     5.980861   \n",
       "SVM                                            60.287081     6.937799   \n",
       "Perceptron simple                              59.330144     7.177033   \n",
       "3-Layers MLP (200 H -> 100 H)                  58.851675     9.808612   \n",
       "10-NN                                          56.459330    16.746411   \n",
       "5-NN                                           53.110048    19.138756   \n",
       "RandomForest (50 estimators)                   54.066986    20.813397   \n",
       "RandomForest (20 estimators)                   54.784689    21.052632   \n",
       "2-NN                                           59.090909    21.531100   \n",
       "DecisionTree                                   52.631579    23.205742   \n",
       "\n",
       "                               % de Falsos Negativos  % de Falsos Positivos  \\\n",
       "Baggin                                      2.870813               2.870813   \n",
       "2-Layers MLP (100 H)                        2.870813               2.870813   \n",
       "SVM                                         3.349282               3.349282   \n",
       "Perceptron simple                           4.306220               4.306220   \n",
       "3-Layers MLP (200 H -> 100 H)               4.784689               4.784689   \n",
       "10-NN                                       7.177033               7.177033   \n",
       "5-NN                                       10.526316              10.526316   \n",
       "RandomForest (50 estimators)                9.569378               9.569378   \n",
       "RandomForest (20 estimators)                8.851675               8.851675   \n",
       "2-NN                                        4.545455               4.545455   \n",
       "DecisionTree                               11.004785              11.004785   \n",
       "\n",
       "                               Precision    Recall  \n",
       "Baggin                          0.921053  0.921053  \n",
       "2-Layers MLP (100 H)            0.914474  0.920530  \n",
       "SVM                             0.901316  0.907285  \n",
       "Perceptron simple               0.921053  0.886076  \n",
       "3-Layers MLP (200 H -> 100 H)   0.861842  0.867550  \n",
       "10-NN                           0.736842  0.788732  \n",
       "5-NN                            0.763158  0.725000  \n",
       "RandomForest (50 estimators)    0.690789  0.724138  \n",
       "RandomForest (20 estimators)    0.664474  0.731884  \n",
       "2-NN                            0.532895  0.810000  \n",
       "DecisionTree                    0.664474  0.687075  "
      ]
     },
     "execution_count": 41,
     "metadata": {},
     "output_type": "execute_result"
    }
   ],
   "source": [
    "tn, fp, fn, tp = confusion_matrix(np.array(best_predictions), test_survived).ravel()\n",
    "n = len(test)\n",
    "table['Baggin'] = {'% de Aciertos' : (tp+tn)/n * 100.0,\n",
    "                   '% de Verdaderos Positivos': tp/n * 100.0,\n",
    "                   '% de Verdaderos Negativos': tn/n * 100.0,\n",
    "                   '% de Fallos' : (fn+fp)/n * 100.0,\n",
    "                   '% de Falsos Negativos' : fn/n * 100.0,\n",
    "                   '% de Falsos Positivos' : fn/n * 100.0,\n",
    "                   'Precision' : tp/(tp+fp),\n",
    "                   'Recall' : tp/(tp+fn)}\n",
    "pd.DataFrame().from_dict(table, orient='index').sort_values(by=['% de Aciertos'], ascending=False)"
   ]
  }
 ],
 "metadata": {
  "kernelspec": {
   "display_name": "Python 3",
   "language": "python",
   "name": "python3"
  },
  "language_info": {
   "codemirror_mode": {
    "name": "ipython",
    "version": 3
   },
   "file_extension": ".py",
   "mimetype": "text/x-python",
   "name": "python",
   "nbconvert_exporter": "python",
   "pygments_lexer": "ipython3",
   "version": "3.6.4"
  }
 },
 "nbformat": 4,
 "nbformat_minor": 2
}
